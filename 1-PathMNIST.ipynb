{
 "cells": [
  {
   "cell_type": "markdown",
   "metadata": {},
   "source": [
    "# Homomorphic Encrpytion for PathMNIST Dataset\n",
    "---"
   ]
  },
  {
   "cell_type": "markdown",
   "metadata": {},
   "source": [
    "## Importing libraries and defining global variables"
   ]
  },
  {
   "cell_type": "code",
   "execution_count": 1,
   "metadata": {},
   "outputs": [],
   "source": [
    "# if in devices with cuda, install GPU supported Concrete\n",
    "# !pip uninstall concrete-python\n",
    "# !pip install concrete-python --extra-index-url https://pypi.zama.ai/gpu."
   ]
  },
  {
   "cell_type": "code",
   "execution_count": 2,
   "metadata": {
    "executionInfo": {
     "elapsed": 17954,
     "status": "ok",
     "timestamp": 1740353320294,
     "user": {
      "displayName": "Prahaladh Chandrahasan",
      "userId": "01382247247799502521"
     },
     "user_tz": 300
    },
    "id": "xNlVEXvQLUa_"
   },
   "outputs": [],
   "source": [
    "import numpy as np\n",
    "import matplotlib.pyplot as plt\n",
    "\n",
    "import torch\n",
    "import torch.nn as nn\n",
    "import torch.nn.functional as F\n",
    "\n",
    "from torch.optim import Adam, SGD\n",
    "from torch.optim.lr_scheduler import ReduceLROnPlateau, CosineAnnealingLR, CosineAnnealingWarmRestarts\n",
    "\n",
    "import torchvision.transforms as tt\n",
    "from torch.utils.data import DataLoader, Dataset\n",
    "\n",
    "from sklearn.metrics import accuracy_score\n",
    "from sklearn.metrics import roc_auc_score\n",
    "from tqdm.auto import tqdm\n",
    "\n",
    "import os\n",
    "import time\n",
    "import pickle\n",
    "from torchinfo import summary\n",
    "\n",
    "from PIL import Image\n",
    "\n",
    "torch.manual_seed(0)\n",
    "np.random.seed(0)"
   ]
  },
  {
   "cell_type": "code",
   "execution_count": 3,
   "metadata": {},
   "outputs": [],
   "source": [
    "if torch.cuda.is_available():\n",
    "    device = 'cuda'\n",
    "elif torch.backends.mps.is_available():\n",
    "    device = 'mps'\n",
    "    \n",
    "ROOT = '.data/'"
   ]
  },
  {
   "cell_type": "code",
   "execution_count": 4,
   "metadata": {},
   "outputs": [],
   "source": [
    "num_workers = 0\n",
    "pin_memory = True"
   ]
  },
  {
   "cell_type": "code",
   "execution_count": 5,
   "metadata": {},
   "outputs": [],
   "source": [
    "SUBSET = 0.5\n",
    "\n",
    "# Arbitrarily chosen placeholder for normalization\n",
    "PATH_MNIST_MEAN = [0.5]\n",
    "PATH_MNIST_STD = [0.5]\n",
    "\n",
    "\n",
    "BATCH_SIZE = 512\n",
    "NUM_CLASSES = 9"
   ]
  },
  {
   "cell_type": "markdown",
   "metadata": {},
   "source": [
    "## Dataset preparation"
   ]
  },
  {
   "cell_type": "code",
   "execution_count": 6,
   "metadata": {
    "executionInfo": {
     "elapsed": 8,
     "status": "ok",
     "timestamp": 1740353355329,
     "user": {
      "displayName": "Prahaladh Chandrahasan",
      "userId": "01382247247799502521"
     },
     "user_tz": 300
    },
    "id": "TPJo4tZcLvik"
   },
   "outputs": [],
   "source": [
    "class PathMNIST(Dataset):\n",
    "\n",
    "    def __init__(self,\n",
    "                 split='train',\n",
    "                 transforms=None,\n",
    "                 target_transform=None,\n",
    "                 download=False):\n",
    "        ''' dataset\n",
    "        :param split: 'train', 'val' or 'test', select subset\n",
    "        :param transform: data transformation\n",
    "        :param target_transform: target transformation\n",
    "\n",
    "        '''\n",
    "\n",
    "        # Check if file exists, otherwise try to download if requested\n",
    "        file_path = os.path.join(ROOT, 'pathmnist.npz')\n",
    "        if not os.path.exists(file_path):\n",
    "            if download:\n",
    "                self._download()\n",
    "            else:\n",
    "                raise RuntimeError(\n",
    "                    f'Dataset not found at {file_path}. Use download=True to download it.')\n",
    "\n",
    "        # Load dataset\n",
    "        npz_file = np.load(file_path)\n",
    "\n",
    "        self.split = split\n",
    "        self.transforms = transforms\n",
    "        self.transform_index = 0\n",
    "        self.target_transform = target_transform\n",
    "\n",
    "        if self.split == 'train':  # 89996 images\n",
    "            X_train = npz_file['train_images']\n",
    "            Y_train = npz_file['train_labels']\n",
    "            \n",
    "            end_idx = int(len(X_train) * SUBSET)\n",
    "            \n",
    "            self.img = X_train[:end_idx]\n",
    "            self.label = Y_train[:end_idx]\n",
    "            \n",
    "        elif self.split == 'val':  # 10004  images\n",
    "            X_val = npz_file['val_images']\n",
    "            Y_val = npz_file['val_labels']\n",
    "            \n",
    "            self.img = X_val\n",
    "            self.label = Y_val\n",
    "            \n",
    "        elif self.split == 'test':  # 7180 images\n",
    "            X_test = npz_file['test_images']\n",
    "            Y_test = npz_file['test_labels']\n",
    "            \n",
    "            self.img = X_test\n",
    "            self.label = Y_test\n",
    "\n",
    "    def __getitem__(self, index):\n",
    "        img, target = self.img[index], self.label[index].astype(int)[0]\n",
    "        img = Image.fromarray(np.uint8(img))\n",
    "\n",
    "        if self.transforms is not None:\n",
    "            img = self.transforms[self.transform_index](img)\n",
    "\n",
    "        if self.target_transform is not None:\n",
    "            target = self.target_transform(target)\n",
    "\n",
    "        return img, target\n",
    "\n",
    "    def __len__(self):\n",
    "        return self.img.shape[0]"
   ]
  },
  {
   "cell_type": "code",
   "execution_count": 7,
   "metadata": {
    "executionInfo": {
     "elapsed": 13,
     "status": "ok",
     "timestamp": 1740353358036,
     "user": {
      "displayName": "Prahaladh Chandrahasan",
      "userId": "01382247247799502521"
     },
     "user_tz": 300
    },
    "id": "ylilaOuVjUmX"
   },
   "outputs": [],
   "source": [
    "light_transform = tt.Compose([\n",
    "    tt.ToTensor(),\n",
    "    tt.Normalize(mean=PATH_MNIST_MEAN, std=PATH_MNIST_STD)\n",
    "])"
   ]
  },
  {
   "cell_type": "code",
   "execution_count": 8,
   "metadata": {
    "colab": {
     "base_uri": "https://localhost:8080/"
    },
    "executionInfo": {
     "elapsed": 16861,
     "status": "ok",
     "timestamp": 1740353377111,
     "user": {
      "displayName": "Prahaladh Chandrahasan",
      "userId": "01382247247799502521"
     },
     "user_tz": 300
    },
    "id": "dzlyWSPRjbTM",
    "outputId": "c5cf5345-2d1e-4dec-a250-cd096c840bba"
   },
   "outputs": [],
   "source": [
    "train_ds    = PathMNIST(split='train', transforms=[light_transform])\n",
    "val_ds      = PathMNIST(split='val', transforms=[light_transform])\n",
    "test_ds     = PathMNIST(split='test', transforms=[light_transform])"
   ]
  },
  {
   "cell_type": "code",
   "execution_count": 9,
   "metadata": {},
   "outputs": [],
   "source": [
    "train_dl    = DataLoader(train_ds, 512, \n",
    "                         shuffle=True,\n",
    "                         num_workers=num_workers, \n",
    "                         pin_memory=pin_memory)\n",
    "\n",
    "test_dl     = DataLoader(test_ds, 512, \n",
    "                         False, \n",
    "                         num_workers=num_workers, \n",
    "                         pin_memory=pin_memory)\n",
    "\n",
    "val_dl      = DataLoader(val_ds, 512, \n",
    "                         False, \n",
    "                         num_workers=num_workers, \n",
    "                         pin_memory=pin_memory)"
   ]
  },
  {
   "cell_type": "code",
   "execution_count": 10,
   "metadata": {},
   "outputs": [
    {
     "data": {
      "text/plain": [
       "[tensor([[[[ 0.5922,  0.6627,  0.6078,  ...,  0.4980,  0.5137,  0.5765],\n",
       "           [ 0.4980,  0.6000,  0.5294,  ...,  0.4667,  0.4902,  0.4275],\n",
       "           [ 0.5686,  0.3882,  0.3647,  ...,  0.5451,  0.5451,  0.5608],\n",
       "           ...,\n",
       "           [ 0.6392,  0.7961,  0.7647,  ...,  0.5059,  0.5451,  0.6863],\n",
       "           [ 0.6314,  0.6863,  0.5843,  ...,  0.4039,  0.3804,  0.7412],\n",
       "           [ 0.5529,  0.6863,  0.6314,  ...,  0.3725,  0.2627,  0.6000]],\n",
       " \n",
       "          [[ 0.3490,  0.4510,  0.3647,  ...,  0.0902,  0.1373,  0.3255],\n",
       "           [ 0.0667,  0.3176,  0.2078,  ..., -0.0510,  0.0824,  0.0824],\n",
       "           [ 0.0902, -0.0824, -0.1294,  ...,  0.0118,  0.1294,  0.2863],\n",
       "           ...,\n",
       "           [ 0.4431,  0.6627,  0.6235,  ...,  0.0824,  0.0588,  0.3412],\n",
       "           [ 0.4196,  0.4980,  0.3412,  ..., -0.1686, -0.1294,  0.3961],\n",
       "           [ 0.2471,  0.4824,  0.3725,  ..., -0.1765, -0.2784,  0.1294]],\n",
       " \n",
       "          [[ 0.6314,  0.6863,  0.6392,  ...,  0.4667,  0.4824,  0.6157],\n",
       "           [ 0.4431,  0.6078,  0.5373,  ...,  0.3647,  0.4431,  0.4510],\n",
       "           [ 0.4510,  0.3176,  0.2784,  ...,  0.3961,  0.4824,  0.5843],\n",
       "           ...,\n",
       "           [ 0.6706,  0.8039,  0.7804,  ...,  0.4353,  0.4275,  0.6235],\n",
       "           [ 0.6627,  0.7098,  0.6078,  ...,  0.2627,  0.2784,  0.6549],\n",
       "           [ 0.5451,  0.7020,  0.6314,  ...,  0.2549,  0.1529,  0.4745]]],\n",
       " \n",
       " \n",
       "         [[[ 0.6471,  0.6863,  0.7020,  ...,  0.7098,  0.7255,  0.7490],\n",
       "           [ 0.6000,  0.6784,  0.6706,  ...,  0.6863,  0.6549,  0.6706],\n",
       "           [ 0.2549,  0.6000,  0.6235,  ...,  0.6941,  0.6941,  0.7098],\n",
       "           ...,\n",
       "           [ 0.7020,  0.6863,  0.6627,  ...,  0.6706,  0.6471,  0.6314],\n",
       "           [ 0.6706,  0.6627,  0.6784,  ...,  0.7647,  0.7333,  0.6941],\n",
       "           [ 0.6392,  0.6314,  0.6784,  ...,  0.6941,  0.7647,  0.8039]],\n",
       " \n",
       "          [[ 0.1059,  0.1529,  0.1843,  ...,  0.1059,  0.1765,  0.2627],\n",
       "           [-0.0196,  0.0824,  0.1843,  ...,  0.0275, -0.0118,  0.0118],\n",
       "           [-0.2784, -0.0431, -0.0039,  ...,  0.1216,  0.1137,  0.0980],\n",
       "           ...,\n",
       "           [ 0.0588,  0.0824,  0.1373,  ...,  0.2314,  0.1529,  0.0510],\n",
       "           [-0.0275, -0.0353, -0.0039,  ...,  0.4588,  0.4039,  0.2392],\n",
       "           [-0.0824, -0.0745, -0.0510,  ...,  0.2784,  0.5216,  0.6000]],\n",
       " \n",
       "          [[ 0.4667,  0.4902,  0.5137,  ...,  0.4588,  0.5059,  0.5529],\n",
       "           [ 0.3725,  0.4510,  0.5216,  ...,  0.4196,  0.3804,  0.4039],\n",
       "           [ 0.1686,  0.3647,  0.3882,  ...,  0.4745,  0.4667,  0.4667],\n",
       "           ...,\n",
       "           [ 0.4431,  0.4510,  0.4824,  ...,  0.5294,  0.4824,  0.4118],\n",
       "           [ 0.3725,  0.3647,  0.3961,  ...,  0.6784,  0.6392,  0.5373],\n",
       "           [ 0.3333,  0.3333,  0.3647,  ...,  0.5686,  0.7020,  0.7490]]],\n",
       " \n",
       " \n",
       "         [[[ 0.5451,  0.4118,  0.3804,  ...,  0.3490,  0.4431,  0.4667],\n",
       "           [ 0.2314,  0.2000,  0.3098,  ...,  0.6078,  0.5059,  0.3020],\n",
       "           [ 0.2471,  0.4118,  0.2863,  ...,  0.3569,  0.4902,  0.4667],\n",
       "           ...,\n",
       "           [ 0.4353,  0.1529,  0.2471,  ...,  0.4431,  0.4824,  0.3020],\n",
       "           [ 0.4196,  0.2706,  0.3176,  ...,  0.2314,  0.2784,  0.2235],\n",
       "           [ 0.3020,  0.3725,  0.2706,  ...,  0.2157,  0.4667,  0.5373]],\n",
       " \n",
       "          [[ 0.1373,  0.0118,  0.0667,  ...,  0.0431,  0.1216,  0.1137],\n",
       "           [-0.1686, -0.1843, -0.0431,  ...,  0.3098,  0.1216, -0.1373],\n",
       "           [-0.0980,  0.0588, -0.0902,  ..., -0.0353,  0.0980,  0.0745],\n",
       "           ...,\n",
       "           [ 0.0980, -0.2157, -0.0745,  ...,  0.1373,  0.1373, -0.1137],\n",
       "           [ 0.0745, -0.1294, -0.0118,  ..., -0.1216, -0.1373, -0.2000],\n",
       "           [-0.1373, -0.0588, -0.1451,  ..., -0.1686,  0.0902,  0.1765]],\n",
       " \n",
       "          [[ 0.4431,  0.3490,  0.3882,  ...,  0.3725,  0.4196,  0.4275],\n",
       "           [ 0.2078,  0.2000,  0.3020,  ...,  0.5608,  0.4196,  0.2471],\n",
       "           [ 0.2627,  0.4039,  0.2784,  ...,  0.3176,  0.4118,  0.3882],\n",
       "           ...,\n",
       "           [ 0.4275,  0.1843,  0.2863,  ...,  0.4275,  0.4353,  0.2706],\n",
       "           [ 0.3961,  0.2627,  0.3255,  ...,  0.2471,  0.2471,  0.2000],\n",
       "           [ 0.2471,  0.3098,  0.2471,  ...,  0.2235,  0.4196,  0.4745]]],\n",
       " \n",
       " \n",
       "         ...,\n",
       " \n",
       " \n",
       "         [[[ 0.5216,  0.5529,  0.6706,  ...,  0.5059,  0.4902,  0.4902],\n",
       "           [ 0.5059,  0.4902,  0.5529,  ...,  0.5216,  0.5137,  0.5529],\n",
       "           [ 0.4902,  0.4824,  0.4980,  ...,  0.4902,  0.5059,  0.5294],\n",
       "           ...,\n",
       "           [ 0.5373,  0.5843,  0.5686,  ...,  0.5843,  0.6000,  0.6000],\n",
       "           [ 0.5059,  0.5373,  0.5451,  ...,  0.5608,  0.5608,  0.5529],\n",
       "           [ 0.4824,  0.4980,  0.5137,  ...,  0.5216,  0.5216,  0.5216]],\n",
       " \n",
       "          [[ 0.2549,  0.2627,  0.3490,  ...,  0.2471,  0.2235,  0.2157],\n",
       "           [ 0.2471,  0.2235,  0.2863,  ...,  0.2784,  0.2392,  0.2549],\n",
       "           [ 0.2157,  0.2078,  0.2549,  ...,  0.2235,  0.2392,  0.2392],\n",
       "           ...,\n",
       "           [ 0.2941,  0.2471,  0.1843,  ...,  0.3647,  0.3647,  0.3333],\n",
       "           [ 0.2471,  0.2549,  0.2314,  ...,  0.3333,  0.3333,  0.3020],\n",
       "           [ 0.2078,  0.2314,  0.2314,  ...,  0.2784,  0.2784,  0.2706]],\n",
       " \n",
       "          [[ 0.5686,  0.5686,  0.6235,  ...,  0.5608,  0.5451,  0.5373],\n",
       "           [ 0.5608,  0.5451,  0.5843,  ...,  0.5765,  0.5608,  0.5765],\n",
       "           [ 0.5451,  0.5373,  0.5608,  ...,  0.5451,  0.5529,  0.5608],\n",
       "           ...,\n",
       "           [ 0.5843,  0.5608,  0.5059,  ...,  0.6314,  0.6235,  0.6000],\n",
       "           [ 0.5608,  0.5686,  0.5373,  ...,  0.6078,  0.6078,  0.5843],\n",
       "           [ 0.5373,  0.5451,  0.5451,  ...,  0.5765,  0.5765,  0.5765]]],\n",
       " \n",
       " \n",
       "         [[[ 0.6235,  0.5137,  0.8039,  ...,  0.5686,  0.5608,  0.5529],\n",
       "           [ 0.6078,  0.4980,  0.6941,  ...,  0.4588,  0.6157,  0.5451],\n",
       "           [ 0.6549,  0.5373,  0.5922,  ...,  0.1373,  0.5686,  0.5765],\n",
       "           ...,\n",
       "           [ 0.8980,  0.6863,  0.2471,  ...,  0.6078,  0.4980,  0.5686],\n",
       "           [ 0.9059,  0.8431,  0.4196,  ...,  0.5922,  0.5843,  0.5765],\n",
       "           [ 0.9137,  0.8980,  0.6706,  ...,  0.5765,  0.5686,  0.5922]],\n",
       " \n",
       "          [[ 0.0745, -0.0431,  0.6314,  ..., -0.0745, -0.0353, -0.0510],\n",
       "           [ 0.0588, -0.1137,  0.3647,  ..., -0.1529,  0.0196, -0.0902],\n",
       "           [ 0.1059, -0.0588,  0.0588,  ..., -0.3569, -0.0510, -0.0588],\n",
       "           ...,\n",
       "           [ 0.8588,  0.3804, -0.2627,  ..., -0.0118, -0.1294, -0.0667],\n",
       "           [ 0.8745,  0.7098, -0.0353,  ..., -0.0431, -0.0510, -0.0824],\n",
       "           [ 0.8667,  0.8588,  0.3490,  ..., -0.0510, -0.0745, -0.0902]],\n",
       " \n",
       "          [[ 0.4588,  0.3569,  0.7725,  ...,  0.3569,  0.3804,  0.3725],\n",
       "           [ 0.4353,  0.3176,  0.6078,  ...,  0.2784,  0.4275,  0.3490],\n",
       "           [ 0.4745,  0.3647,  0.4275,  ...,  0.1137,  0.3725,  0.3804],\n",
       "           ...,\n",
       "           [ 0.8902,  0.6078,  0.1922,  ...,  0.4039,  0.3098,  0.3647],\n",
       "           [ 0.9059,  0.8118,  0.3490,  ...,  0.3804,  0.3725,  0.3569],\n",
       "           [ 0.8980,  0.8980,  0.6000,  ...,  0.3725,  0.3569,  0.3490]]],\n",
       " \n",
       " \n",
       "         [[[-0.0824, -0.0824, -0.0824,  ..., -0.0824, -0.0745, -0.0745],\n",
       "           [-0.0824, -0.0824, -0.0824,  ..., -0.0745, -0.0745, -0.0667],\n",
       "           [-0.0824, -0.0824, -0.0745,  ..., -0.0824, -0.0980, -0.0745],\n",
       "           ...,\n",
       "           [-0.0824, -0.0824, -0.0824,  ..., -0.0902, -0.0824, -0.0824],\n",
       "           [-0.0824, -0.0824, -0.0824,  ..., -0.0667, -0.0824, -0.0824],\n",
       "           [-0.0824, -0.0824, -0.0824,  ..., -0.0745, -0.0745, -0.0745]],\n",
       " \n",
       "          [[-0.5059, -0.5059, -0.5059,  ..., -0.5059, -0.5059, -0.5216],\n",
       "           [-0.5059, -0.5059, -0.5059,  ..., -0.5059, -0.5059, -0.5059],\n",
       "           [-0.5059, -0.5059, -0.5059,  ..., -0.4824, -0.4824, -0.4902],\n",
       "           ...,\n",
       "           [-0.5059, -0.5059, -0.5059,  ..., -0.4980, -0.4824, -0.5059],\n",
       "           [-0.5059, -0.5059, -0.5059,  ..., -0.4902, -0.4980, -0.5059],\n",
       "           [-0.5059, -0.5059, -0.5059,  ..., -0.5059, -0.5059, -0.5059]],\n",
       " \n",
       "          [[-0.0745, -0.0745, -0.0745,  ..., -0.0745, -0.0824, -0.0902],\n",
       "           [-0.0745, -0.0745, -0.0745,  ..., -0.0745, -0.0745, -0.0745],\n",
       "           [-0.0745, -0.0745, -0.0824,  ..., -0.0588, -0.0510, -0.0667],\n",
       "           ...,\n",
       "           [-0.0745, -0.0745, -0.0745,  ..., -0.0745, -0.0588, -0.0824],\n",
       "           [-0.0745, -0.0745, -0.0745,  ..., -0.0588, -0.0667, -0.0745],\n",
       "           [-0.0745, -0.0745, -0.0745,  ..., -0.0745, -0.0745, -0.0824]]]]),\n",
       " tensor([6, 5, 3, 5, 4, 3, 7, 6, 8, 6, 1, 4, 5, 7, 3, 1, 7, 3, 7, 2, 2, 3, 3, 6,\n",
       "         5, 0, 7, 7, 0, 0, 6, 8, 7, 8, 2, 1, 0, 3, 5, 0, 4, 2, 1, 6, 3, 2, 5, 3,\n",
       "         8, 4, 2, 0, 3, 8, 5, 8, 5, 0, 7, 7, 7, 5, 3, 3, 6, 7, 2, 4, 0, 2, 1, 0,\n",
       "         0, 2, 8, 5, 5, 8, 2, 5, 2, 0, 1, 5, 0, 7, 2, 7, 8, 3, 5, 0, 1, 8, 4, 4,\n",
       "         3, 3, 2, 5, 5, 8, 8, 2, 3, 8, 5, 8, 8, 4, 0, 8, 7, 6, 5, 6, 0, 2, 2, 7,\n",
       "         8, 0, 8, 7, 0, 7, 6, 8, 6, 8, 4, 3, 3, 0, 3, 2, 7, 5, 0, 1, 4, 8, 5, 5,\n",
       "         3, 2, 1, 8, 0, 1, 7, 6, 0, 8, 4, 3, 5, 7, 5, 3, 7, 2, 1, 8, 1, 5, 8, 7,\n",
       "         2, 3, 6, 2, 1, 7, 1, 8, 2, 8, 8, 0, 5, 7, 2, 4, 2, 7, 5, 3, 0, 4, 4, 1,\n",
       "         4, 4, 4, 6, 8, 2, 7, 2, 8, 5, 1, 1, 0, 2, 0, 2, 3, 2, 5, 3, 2, 0, 5, 8,\n",
       "         0, 1, 5, 3, 8, 8, 7, 6, 8, 6, 8, 7, 3, 5, 6, 8, 6, 8, 0, 4, 0, 6, 4, 5,\n",
       "         0, 8, 8, 8, 5, 7, 3, 7, 2, 5, 8, 0, 2, 7, 1, 3, 5, 0, 3, 1, 3, 5, 1, 3,\n",
       "         0, 6, 3, 7, 5, 7, 7, 5, 0, 4, 3, 8, 5, 2, 3, 8, 1, 8, 7, 8, 2, 2, 5, 3,\n",
       "         2, 3, 8, 1, 8, 4, 5, 4, 7, 4, 2, 1, 0, 7, 8, 2, 5, 8, 2, 2, 5, 5, 0, 3,\n",
       "         7, 8, 3, 3, 1, 5, 3, 3, 7, 6, 8, 5, 2, 5, 8, 2, 8, 5, 2, 3, 3, 3, 5, 1,\n",
       "         0, 1, 6, 2, 1, 8, 2, 0, 3, 7, 7, 1, 2, 5, 7, 2, 5, 1, 3, 7, 2, 0, 0, 8,\n",
       "         3, 5, 5, 8, 1, 1, 5, 7, 5, 5, 3, 8, 2, 3, 6, 2, 3, 3, 6, 5, 0, 0, 8, 4,\n",
       "         2, 0, 0, 6, 5, 1, 5, 3, 1, 3, 5, 8, 8, 4, 8, 0, 1, 2, 5, 6, 5, 8, 0, 7,\n",
       "         5, 0, 1, 4, 7, 5, 6, 4, 5, 5, 0, 2, 8, 0, 5, 2, 2, 7, 2, 8, 7, 1, 1, 2,\n",
       "         6, 2, 3, 6, 6, 0, 1, 7, 5, 5, 7, 5, 4, 6, 2, 0, 5, 5, 1, 2, 0, 1, 5, 5,\n",
       "         4, 4, 5, 0, 6, 2, 7, 5, 6, 7, 7, 4, 5, 2, 5, 4, 5, 2, 8, 7, 0, 4, 3, 5,\n",
       "         8, 5, 0, 2, 6, 2, 8, 3, 3, 6, 0, 8, 1, 2, 8, 4, 8, 2, 6, 0, 7, 8, 8, 1,\n",
       "         5, 7, 4, 5, 8, 1, 5, 1])]"
      ]
     },
     "execution_count": 10,
     "metadata": {},
     "output_type": "execute_result"
    }
   ],
   "source": [
    "next(iter(train_dl))"
   ]
  },
  {
   "cell_type": "markdown",
   "metadata": {},
   "source": [
    "## Model Definition"
   ]
  },
  {
   "cell_type": "code",
   "execution_count": 11,
   "metadata": {},
   "outputs": [],
   "source": [
    "class BasicConvNet(nn.Module):\n",
    "    \"\"\"\n",
    "    PyTorch implementation of a simple CNN for PathMNIST.\n",
    "    PathMNIST has RGB images of size 28x28x3.\n",
    "    \"\"\"\n",
    "    def __init__(self, num_classes=9):\n",
    "        super().__init__()\n",
    "        \n",
    "        # First convolutional block\n",
    "        self.conv1 = nn.Conv2d(in_channels=3, out_channels=64, kernel_size=3, padding=1)\n",
    "        self.bn1 = nn.BatchNorm2d(64)\n",
    "        \n",
    "        # Second convolutional block\n",
    "        self.conv2 = nn.Conv2d(in_channels=64, out_channels=64, kernel_size=3, padding=1)\n",
    "        self.bn2 = nn.BatchNorm2d(64)\n",
    "        \n",
    "        # Third convolutional block\n",
    "        self.conv3 = nn.Conv2d(in_channels=64, out_channels=64, kernel_size=3, padding=1)\n",
    "        self.bn3 = nn.BatchNorm2d(64)\n",
    "        \n",
    "        # Pooling layer\n",
    "        self.pool = nn.MaxPool2d(2)\n",
    "        \n",
    "        self.fc = nn.Linear(3*3*64, num_classes)\n",
    "    \n",
    "    def forward(self, x):\n",
    "        # First block\n",
    "        x = self.pool(F.relu(self.bn1(self.conv1(x))))\n",
    "        \n",
    "        # Second block\n",
    "        x = self.pool(F.relu(self.bn2(self.conv2(x))))\n",
    "        \n",
    "        # Third block\n",
    "        x = self.pool(F.relu(self.bn3(self.conv3(x))))\n",
    "        \n",
    "        # Flatten\n",
    "        x = x.view(x.size(0), -1)\n",
    "        \n",
    "        # Fully connected layer\n",
    "        x = self.fc(x)\n",
    "        \n",
    "        return x\n",
    "\n"
   ]
  },
  {
   "cell_type": "code",
   "execution_count": 12,
   "metadata": {},
   "outputs": [],
   "source": [
    "class BasicConvNet(nn.Module):\n",
    "    \"\"\"\n",
    "    PyTorch implementation of a simple CNN for PathMNIST.\n",
    "    PathMNIST has RGB images of size 28x28x3.\n",
    "    \"\"\"\n",
    "    def __init__(self, num_classes=9):\n",
    "        super().__init__()\n",
    "\n",
    "        # First convolutional block\n",
    "        self.conv1 = nn.Conv2d(in_channels=3, out_channels=32, kernel_size=3, padding=1)\n",
    "        self.bn1 = nn.BatchNorm2d(32)\n",
    "\n",
    "        # Second convolutional block\n",
    "        self.conv2 = nn.Conv2d(in_channels=32, out_channels=32, kernel_size=3, padding=1)\n",
    "        self.bn2 = nn.BatchNorm2d(32)\n",
    "\n",
    "        # Third convolutional block\n",
    "        self.conv3 = nn.Conv2d(in_channels=32, out_channels=32, kernel_size=3, padding=1)\n",
    "        self.bn3 = nn.BatchNorm2d(32)\n",
    "\n",
    "        # Pooling layer\n",
    "        self.pool = nn.MaxPool2d(2)\n",
    "\n",
    "        self.fc = nn.Linear(3*3*32, num_classes)\n",
    "\n",
    "    def forward(self, x):\n",
    "        # First block\n",
    "        x = self.pool(F.relu(self.bn1(self.conv1(x))))\n",
    "        # x = self.pool(F.relu(self.conv1(x)))\n",
    "\n",
    "        # Second block\n",
    "        x = self.pool(F.relu(self.bn2(self.conv2(x))))\n",
    "        # x = self.pool(F.relu(self.conv2(x)))\n",
    "\n",
    "        # Third block\n",
    "        x = self.pool(F.relu(self.bn3(self.conv3(x))))\n",
    "        # x = self.pool(F.relu(self.conv3(x)))\n",
    "\n",
    "        # Flatten\n",
    "        x = x.view(x.size(0), -1)\n",
    "\n",
    "        # Fully connected layer\n",
    "        x = self.fc(x)\n",
    "\n",
    "        return x\n",
    "\n"
   ]
  },
  {
   "cell_type": "code",
   "execution_count": 16,
   "metadata": {},
   "outputs": [],
   "source": [
    "class BasicConvNet(nn.Module):\n",
    "    \"\"\"\n",
    "    PyTorch implementation of a simple CNN for PathMNIST.\n",
    "    PathMNIST has RGB images of size 28x28x3.\n",
    "    \"\"\"\n",
    "    def __init__(self, num_classes=9):\n",
    "        super().__init__()\n",
    "\n",
    "        # First convolutional block\n",
    "        self.conv1 = nn.Conv2d(in_channels=3, out_channels=32, kernel_size=3, padding=1)\n",
    "        # self.bn1 = nn.BatchNorm2d(32)\n",
    "\n",
    "        # Second convolutional block\n",
    "        self.conv2 = nn.Conv2d(in_channels=32, out_channels=32, kernel_size=3, padding=1)\n",
    "        # self.bn2 = nn.BatchNorm2d(32)\n",
    "\n",
    "        # Third convolutional block\n",
    "        self.conv3 = nn.Conv2d(in_channels=32, out_channels=32, kernel_size=3, padding=1)\n",
    "        # self.bn3 = nn.BatchNorm2d(32)\n",
    "\n",
    "        # Pooling layer\n",
    "        self.pool = nn.MaxPool2d(2)\n",
    "\n",
    "        self.fc = nn.Linear(3*3*32, num_classes)\n",
    "\n",
    "    def forward(self, x):\n",
    "        # First block\n",
    "        # x = self.pool(F.relu(self.bn1(self.conv1(x))))\n",
    "        x = self.pool(F.relu(self.conv1(x)))\n",
    "\n",
    "        # Second block\n",
    "        # x = self.pool(F.relu(self.bn2(self.conv2(x))))\n",
    "        x = self.pool(F.relu(self.conv2(x)))\n",
    "\n",
    "        # Third block\n",
    "        # x = self.pool(F.relu(self.bn3(self.conv3(x))))\n",
    "        x = self.pool(F.relu(self.conv3(x)))\n",
    "\n",
    "        # Flatten\n",
    "        x = x.view(x.size(0), -1)\n",
    "\n",
    "        # Fully connected layer\n",
    "        x = self.fc(x)\n",
    "\n",
    "        return x\n",
    "\n"
   ]
  },
  {
   "cell_type": "markdown",
   "metadata": {},
   "source": [
    "## Train Preparation"
   ]
  },
  {
   "cell_type": "code",
   "execution_count": 17,
   "metadata": {
    "executionInfo": {
     "elapsed": 9,
     "status": "ok",
     "timestamp": 1740353666006,
     "user": {
      "displayName": "Prahaladh Chandrahasan",
      "userId": "01382247247799502521"
     },
     "user_tz": 300
    },
    "id": "1jPgza41BhWA"
   },
   "outputs": [],
   "source": [
    "model = BasicConvNet()\n",
    "model = model.to(device)"
   ]
  },
  {
   "cell_type": "code",
   "execution_count": 18,
   "metadata": {
    "colab": {
     "base_uri": "https://localhost:8080/"
    },
    "executionInfo": {
     "elapsed": 37,
     "status": "ok",
     "timestamp": 1740353666836,
     "user": {
      "displayName": "Prahaladh Chandrahasan",
      "userId": "01382247247799502521"
     },
     "user_tz": 300
    },
    "id": "dUbxW8Cg4KyZ",
    "outputId": "c2c49b0d-9a54-4032-954a-f289c32684b9"
   },
   "outputs": [
    {
     "data": {
      "text/plain": [
       "BasicConvNet(\n",
       "  (conv1): Conv2d(3, 32, kernel_size=(3, 3), stride=(1, 1), padding=(1, 1))\n",
       "  (conv2): Conv2d(32, 32, kernel_size=(3, 3), stride=(1, 1), padding=(1, 1))\n",
       "  (conv3): Conv2d(32, 32, kernel_size=(3, 3), stride=(1, 1), padding=(1, 1))\n",
       "  (pool): MaxPool2d(kernel_size=2, stride=2, padding=0, dilation=1, ceil_mode=False)\n",
       "  (fc): Linear(in_features=288, out_features=9, bias=True)\n",
       ")"
      ]
     },
     "execution_count": 18,
     "metadata": {},
     "output_type": "execute_result"
    }
   ],
   "source": [
    "model"
   ]
  },
  {
   "cell_type": "code",
   "execution_count": 19,
   "metadata": {},
   "outputs": [
    {
     "data": {
      "text/plain": [
       "==========================================================================================\n",
       "Layer (type:depth-idx)                   Output Shape              Param #\n",
       "==========================================================================================\n",
       "BasicConvNet                             [1, 9]                    --\n",
       "├─Conv2d: 1-1                            [1, 32, 28, 28]           896\n",
       "├─MaxPool2d: 1-2                         [1, 32, 14, 14]           --\n",
       "├─Conv2d: 1-3                            [1, 32, 14, 14]           9,248\n",
       "├─MaxPool2d: 1-4                         [1, 32, 7, 7]             --\n",
       "├─Conv2d: 1-5                            [1, 32, 7, 7]             9,248\n",
       "├─MaxPool2d: 1-6                         [1, 32, 3, 3]             --\n",
       "├─Linear: 1-7                            [1, 9]                    2,601\n",
       "==========================================================================================\n",
       "Total params: 21,993\n",
       "Trainable params: 21,993\n",
       "Non-trainable params: 0\n",
       "Total mult-adds (M): 2.97\n",
       "==========================================================================================\n",
       "Input size (MB): 0.01\n",
       "Forward/backward pass size (MB): 0.26\n",
       "Params size (MB): 0.09\n",
       "Estimated Total Size (MB): 0.36\n",
       "=========================================================================================="
      ]
     },
     "execution_count": 19,
     "metadata": {},
     "output_type": "execute_result"
    }
   ],
   "source": [
    "summary(model, input_size=(1, 3, 28, 28))"
   ]
  },
  {
   "cell_type": "code",
   "execution_count": 20,
   "metadata": {},
   "outputs": [],
   "source": [
    "# again, the very strange summary behaviour\n",
    "model = model.to(device)"
   ]
  },
  {
   "cell_type": "code",
   "execution_count": 21,
   "metadata": {
    "executionInfo": {
     "elapsed": 1,
     "status": "ok",
     "timestamp": 1740353669625,
     "user": {
      "displayName": "Prahaladh Chandrahasan",
      "userId": "01382247247799502521"
     },
     "user_tz": 300
    },
    "id": "duFjbXRh3JNs"
   },
   "outputs": [],
   "source": [
    "opt = SGD(model.parameters(),lr = 1e-3)\n",
    "criterion = nn.CrossEntropyLoss()"
   ]
  },
  {
   "cell_type": "code",
   "execution_count": 22,
   "metadata": {
    "executionInfo": {
     "elapsed": 1,
     "status": "ok",
     "timestamp": 1740353670295,
     "user": {
      "displayName": "Prahaladh Chandrahasan",
      "userId": "01382247247799502521"
     },
     "user_tz": 300
    },
    "id": "ye6BgkMDUjEI"
   },
   "outputs": [],
   "source": [
    "BATCH_SIZE = 512\n",
    "MAX_PHYSICAL_BATCH_SIZE = 128"
   ]
  },
  {
   "cell_type": "code",
   "execution_count": 23,
   "metadata": {
    "executionInfo": {
     "elapsed": 5,
     "status": "ok",
     "timestamp": 1740353671138,
     "user": {
      "displayName": "Prahaladh Chandrahasan",
      "userId": "01382247247799502521"
     },
     "user_tz": 300
    },
    "id": "nvflXZWA74tQ"
   },
   "outputs": [],
   "source": [
    "def accuracy(preds, labels):\n",
    "    return (preds == labels).mean()"
   ]
  },
  {
   "cell_type": "code",
   "execution_count": 24,
   "metadata": {
    "executionInfo": {
     "elapsed": 7,
     "status": "ok",
     "timestamp": 1740353673509,
     "user": {
      "displayName": "Prahaladh Chandrahasan",
      "userId": "01382247247799502521"
     },
     "user_tz": 300
    },
    "id": "B27aFGQgUYrt"
   },
   "outputs": [],
   "source": [
    "def train(model, train_loader, optimizer, epoch, device):\n",
    "    model.train()\n",
    "    criterion = nn.CrossEntropyLoss()\n",
    "\n",
    "    losses = []\n",
    "    top1_acc = []\n",
    "\n",
    "    for i, (images, target) in enumerate(train_loader):\n",
    "        optimizer.zero_grad()\n",
    "        images = images.to(device)\n",
    "        target = target.to(device)\n",
    "\n",
    "        # compute output\n",
    "        output = model(images)\n",
    "        loss = criterion(output, target)\n",
    "\n",
    "        preds = np.argmax(output.detach().cpu().numpy(), axis=1)\n",
    "        labels = target.detach().cpu().numpy()\n",
    "\n",
    "        # measure accuracy and record loss\n",
    "        acc = accuracy(preds, labels)\n",
    "\n",
    "        losses.append(loss.item())\n",
    "        top1_acc.append(acc)\n",
    "\n",
    "        loss.backward()\n",
    "        optimizer.step()\n",
    "\n",
    "    print(\n",
    "        f\"Epoch {epoch}\\n\"\n",
    "        f\"\\ttrain     Loss: {np.mean(losses):.4f}    Acc: {np.mean(top1_acc) * 100:.4f}%\"\n",
    "    )\n",
    "\n",
    "    return np.mean(losses), np.mean(top1_acc)"
   ]
  },
  {
   "cell_type": "code",
   "execution_count": 25,
   "metadata": {
    "executionInfo": {
     "elapsed": 10,
     "status": "ok",
     "timestamp": 1740353674016,
     "user": {
      "displayName": "Prahaladh Chandrahasan",
      "userId": "01382247247799502521"
     },
     "user_tz": 300
    },
    "id": "zHMURB_tUb8-"
   },
   "outputs": [],
   "source": [
    "def test(model, test_loader, device):\n",
    "    model.eval()\n",
    "    criterion = nn.CrossEntropyLoss()\n",
    "    losses = []\n",
    "    top1_acc = []\n",
    "\n",
    "    with torch.no_grad():\n",
    "        for images, target in test_loader:\n",
    "            images = images.to(device)\n",
    "            target = target.to(device)\n",
    "\n",
    "            output = model(images)\n",
    "            loss = criterion(output, target)\n",
    "            preds = np.argmax(output.detach().cpu().numpy(), axis=1)\n",
    "            labels = target.detach().cpu().numpy()\n",
    "            acc = accuracy(preds, labels)\n",
    "\n",
    "            losses.append(loss.item())\n",
    "            top1_acc.append(acc)\n",
    "\n",
    "    top1_avg = np.mean(top1_acc)\n",
    "\n",
    "    print(\n",
    "        f\"\\tval       Loss: {np.mean(losses):.4f}    Acc: {top1_avg * 100:.4f}%\"\n",
    "    )\n",
    "    return np.mean(losses), np.mean(top1_acc)"
   ]
  },
  {
   "cell_type": "code",
   "execution_count": 26,
   "metadata": {
    "colab": {
     "base_uri": "https://localhost:8080/",
     "height": 1000,
     "referenced_widgets": [
      "c447f4bce2e54aa497bf89cccc037ba9",
      "c3c78fc779d441d8b4514ed3b96041ec",
      "7a9eb310637641599b8a3caeda76269f",
      "5da287da1ce2405295ca3427cb64fdd5",
      "f9f64568357d45558a6f8e2a0c319dfc",
      "a17dad5468c1420798c8f6ffef886d9a",
      "c3ae10a46e214e7c9f6adbcdc7ad97ff",
      "342ac380362242939cc924919b233ba9",
      "e57fe91514ba43a99b360674a3f08611",
      "eaedd3f9354946f4b2e2251a8c4ef38e",
      "75cb3dfa93f4438b856929a601ca0359"
     ]
    },
    "executionInfo": {
     "elapsed": 1044440,
     "status": "ok",
     "timestamp": 1740354721053,
     "user": {
      "displayName": "Prahaladh Chandrahasan",
      "userId": "01382247247799502521"
     },
     "user_tz": 300
    },
    "id": "R1QXYpizUrN4",
    "outputId": "f20ef97a-5f6f-4e4a-b30f-c5415117142d"
   },
   "outputs": [
    {
     "data": {
      "application/vnd.jupyter.widget-view+json": {
       "model_id": "c1a303dbab764a3ca3c01dc3cbbe6b9e",
       "version_major": 2,
       "version_minor": 0
      },
      "text/plain": [
       "Epoch:   0%|          | 0/5 [00:00<?, ?epoch/s]"
      ]
     },
     "metadata": {},
     "output_type": "display_data"
    },
    {
     "name": "stdout",
     "output_type": "stream",
     "text": [
      "Epoch 1\n",
      "\ttrain     Loss: 2.1992    Acc: 11.5443%\n",
      "\tval       Loss: 2.1985    Acc: 11.6720%\n",
      "Epoch 2\n",
      "\ttrain     Loss: 2.1977    Acc: 11.9266%\n",
      "\tval       Loss: 2.1969    Acc: 11.9886%\n",
      "Epoch 3\n",
      "\ttrain     Loss: 2.1961    Acc: 11.9397%\n",
      "\tval       Loss: 2.1954    Acc: 11.8141%\n",
      "Epoch 4\n",
      "\ttrain     Loss: 2.1946    Acc: 12.2706%\n",
      "\tval       Loss: 2.1939    Acc: 12.9022%\n",
      "Epoch 5\n",
      "\ttrain     Loss: 2.1931    Acc: 12.9146%\n",
      "\tval       Loss: 2.1925    Acc: 13.0363%\n"
     ]
    }
   ],
   "source": [
    "train_losses = []\n",
    "train_accuracies = []\n",
    "\n",
    "val_losses = []\n",
    "val_accuracies = []\n",
    "\n",
    "EPOCHS = 5\n",
    "for epoch in tqdm(range(EPOCHS), desc=\"Epoch\", unit=\"epoch\"):\n",
    "    loss, acc = train(model, train_dl, opt, epoch + 1, device)\n",
    "    val_loss,val_acc = test(model, val_dl, device)\n",
    "    \n",
    "    train_losses.append(loss)\n",
    "    train_accuracies.append(acc)\n",
    "    \n",
    "    val_losses.append(val_loss)\n",
    "    val_accuracies.append(val_acc)"
   ]
  },
  {
   "cell_type": "code",
   "execution_count": null,
   "metadata": {},
   "outputs": [],
   "source": [
    "# torch.save(model, 'checkpoints/baseline_model.pth')\n",
    "# torch.save(model.state_dict(), 'checkpoints/baseline_model_state_dict.pth')"
   ]
  },
  {
   "cell_type": "code",
   "execution_count": 90,
   "metadata": {},
   "outputs": [
    {
     "name": "stdout",
     "output_type": "stream",
     "text": [
      "\tval       Loss: 0.7089    Acc: 81.8229%\n"
     ]
    }
   ],
   "source": [
    "_ , _ = test(model, test_dl, device)"
   ]
  },
  {
   "cell_type": "markdown",
   "metadata": {},
   "source": [
    "## Train Evaluation"
   ]
  },
  {
   "cell_type": "code",
   "execution_count": 27,
   "metadata": {
    "colab": {
     "base_uri": "https://localhost:8080/",
     "height": 607
    },
    "executionInfo": {
     "elapsed": 1202,
     "status": "ok",
     "timestamp": 1740354873784,
     "user": {
      "displayName": "Prahaladh Chandrahasan",
      "userId": "01382247247799502521"
     },
     "user_tz": 300
    },
    "id": "Aj9fLyEi7Cmx",
    "outputId": "e71366a1-ad9c-4a2f-e696-a13bfae07a8b"
   },
   "outputs": [
    {
     "data": {
      "image/png": "[encoded data removed]",
      "text/plain": [
       "<Figure size 1800x400 with 2 Axes>"
      ]
     },
     "metadata": {},
     "output_type": "display_data"
    }
   ],
   "source": [
    "def plot_training_curves(metrics1: dict, metrics2: dict, label1='Model 1', label2='Model 2'):\n",
    "    \"\"\"\n",
    "    Plots Loss vs Epochs and Accuracy vs Epochs for two sets of metrics.\n",
    "\n",
    "    Parameters:\n",
    "    - metrics1: dict with keys 'loss' and 'accuracy' for the first model.\n",
    "    - metrics2: dict with keys 'loss' and 'accuracy' for the second model.\n",
    "    - label1: Label for the first model (default: 'Model 1').\n",
    "    - label2: Label for the second model (default: 'Model 2').\n",
    "    \"\"\"\n",
    "    epochs = np.arange(1, len(metrics1['loss']) + 1)\n",
    "\n",
    "    plt.figure(figsize=(18, 4))\n",
    "\n",
    "    # Plot Loss vs Epochs\n",
    "    plt.subplot(1, 2, 1)\n",
    "    plt.plot(epochs, metrics1['loss'], label=f'{label1} Loss', marker='.', linestyle='-')\n",
    "    plt.plot(epochs, metrics2['loss'], label=f'{label2} Loss', marker='.', linestyle='--')\n",
    "    plt.title('Loss vs Epochs')\n",
    "    plt.xlabel('Epochs')\n",
    "    plt.ylabel('Loss')\n",
    "    plt.legend()\n",
    "    plt.grid(True)\n",
    "\n",
    "    # Plot Accuracy vs Epochs\n",
    "    plt.subplot(1, 2, 2)\n",
    "    plt.plot(epochs, metrics1['accuracy'], label=f'{label1} Accuracy', marker='.', linestyle='-')\n",
    "    plt.plot(epochs, metrics2['accuracy'], label=f'{label2} Accuracy', marker='.', linestyle='--')\n",
    "    plt.title('Accuracy vs Epochs')\n",
    "    plt.xlabel('Epochs')\n",
    "    plt.ylabel('Accuracy')\n",
    "    plt.legend()\n",
    "    plt.grid(True)\n",
    "\n",
    "    plt.tight_layout()\n",
    "    plt.show()\n",
    "\n",
    "\n",
    "# Example usage:\n",
    "# Replace these arrays with your actual data\n",
    "train = {\n",
    "    'loss': train_losses,\n",
    "    'accuracy': train_accuracies\n",
    "}\n",
    "\n",
    "val = {\n",
    "    'loss': val_losses,\n",
    "    'accuracy': val_accuracies\n",
    "}\n",
    "\n",
    "plot_training_curves(train, val, label1='Training', label2='Validation')\n"
   ]
  },
  {
   "cell_type": "code",
   "execution_count": null,
   "metadata": {},
   "outputs": [],
   "source": []
  },
  {
   "cell_type": "markdown",
   "metadata": {},
   "source": [
    "## Concrete (using PTQ)"
   ]
  },
  {
   "cell_type": "code",
   "execution_count": 28,
   "metadata": {},
   "outputs": [],
   "source": [
    "import concrete.ml as cml\n",
    "from concrete import fhe\n",
    "from concrete.ml.torch.compile import compile_torch_model"
   ]
  },
  {
   "cell_type": "code",
   "execution_count": 29,
   "metadata": {},
   "outputs": [],
   "source": [
    "if torch.backends.mps.is_available():\n",
    "    cdevice = 'cpu'\n",
    "else:\n",
    "    cdevice = 'cuda'"
   ]
  },
  {
   "cell_type": "code",
   "execution_count": 30,
   "metadata": {},
   "outputs": [
    {
     "name": "stdout",
     "output_type": "stream",
     "text": [
      "Converting PyTorch model to Concrete ML...\n"
     ]
    }
   ],
   "source": [
    "print(\"Converting PyTorch model to Concrete ML...\")\n",
    "\n",
    "model = torch.load(\"checkpoints/baseline_model.pth\")"
   ]
  },
  {
   "cell_type": "code",
   "execution_count": 31,
   "metadata": {},
   "outputs": [
    {
     "name": "stdout",
     "output_type": "stream",
     "text": [
      "Model successfully converted to Concrete ML format\n"
     ]
    }
   ],
   "source": [
    "model.to(cdevice)\n",
    "\n",
    "# Use a sample input to trace the model\n",
    "dummy_input = torch.randn(1, 3, 28, 28).to(cdevice)\n",
    "\n",
    "# Note: Concrete ML uses Post-Training Quantization (PTQ) by default\n",
    "quantized_module = compile_torch_model(\n",
    "    model,\n",
    "    dummy_input,\n",
    "    n_bits=6, \n",
    "    rounding_threshold_bits={\"n_bits\": 6, \"method\": \"approximate\"},\n",
    "    device = cdevice,\n",
    ")\n",
    "\n",
    "print(\"Model successfully converted to Concrete ML format\")"
   ]
  },
  {
   "cell_type": "markdown",
   "metadata": {},
   "source": [
    "### Test Concrete with one example"
   ]
  },
  {
   "cell_type": "code",
   "execution_count": 32,
   "metadata": {},
   "outputs": [
    {
     "data": {
      "text/plain": [
       "torch.Size([512, 3, 28, 28])"
      ]
     },
     "execution_count": 32,
     "metadata": {},
     "output_type": "execute_result"
    }
   ],
   "source": [
    "data, target = next(iter(test_dl))\n",
    "data.shape"
   ]
  },
  {
   "cell_type": "code",
   "execution_count": 33,
   "metadata": {},
   "outputs": [
    {
     "ename": "KeyboardInterrupt",
     "evalue": "",
     "output_type": "error",
     "traceback": [
      "\u001b[0;31m---------------------------------------------------------------------------\u001b[0m",
      "\u001b[0;31mKeyboardInterrupt\u001b[0m                         Traceback (most recent call last)",
      "Cell \u001b[0;32mIn[33], line 3\u001b[0m\n\u001b[1;32m      1\u001b[0m x_test_q \u001b[38;5;241m=\u001b[39m quantized_module\u001b[38;5;241m.\u001b[39mquantize_input(data\u001b[38;5;241m.\u001b[39mnumpy())\n\u001b[0;32m----> 3\u001b[0m y_pred_q \u001b[38;5;241m=\u001b[39m \u001b[43mquantized_module\u001b[49m\u001b[38;5;241;43m.\u001b[39;49m\u001b[43mquantized_forward\u001b[49m\u001b[43m(\u001b[49m\u001b[43mx_test_q\u001b[49m\u001b[43m,\u001b[49m\u001b[43m \u001b[49m\u001b[43mfhe\u001b[49m\u001b[38;5;241;43m=\u001b[39;49m\u001b[38;5;124;43m\"\u001b[39;49m\u001b[38;5;124;43msimulate\u001b[39;49m\u001b[38;5;124;43m\"\u001b[39;49m\u001b[43m)\u001b[49m\n\u001b[1;32m      4\u001b[0m y_pred_q\n",
      "File \u001b[0;32m~/Workspace/Programming_Projects/homomorphic-ml-project/.venv/lib/python3.10/site-packages/concrete/ml/quantization/quantized_module.py:523\u001b[0m, in \u001b[0;36mQuantizedModule.quantized_forward\u001b[0;34m(self, fhe, *q_x)\u001b[0m\n\u001b[1;32m    521\u001b[0m     \u001b[38;5;28;01mreturn\u001b[39;00m \u001b[38;5;28mself\u001b[39m\u001b[38;5;241m.\u001b[39m_clear_forward(\u001b[38;5;241m*\u001b[39mq_x)\n\u001b[1;32m    522\u001b[0m simulate \u001b[38;5;241m=\u001b[39m fhe \u001b[38;5;241m==\u001b[39m \u001b[38;5;124m\"\u001b[39m\u001b[38;5;124msimulate\u001b[39m\u001b[38;5;124m\"\u001b[39m\n\u001b[0;32m--> 523\u001b[0m \u001b[38;5;28;01mreturn\u001b[39;00m \u001b[38;5;28;43mself\u001b[39;49m\u001b[38;5;241;43m.\u001b[39;49m\u001b[43m_fhe_forward\u001b[49m\u001b[43m(\u001b[49m\u001b[38;5;241;43m*\u001b[39;49m\u001b[43mq_x\u001b[49m\u001b[43m,\u001b[49m\u001b[43m \u001b[49m\u001b[43msimulate\u001b[49m\u001b[38;5;241;43m=\u001b[39;49m\u001b[43msimulate\u001b[49m\u001b[43m)\u001b[49m\n",
      "File \u001b[0;32m~/Workspace/Programming_Projects/homomorphic-ml-project/.venv/lib/python3.10/site-packages/concrete/ml/quantization/quantized_module.py:688\u001b[0m, in \u001b[0;36mQuantizedModule._fhe_forward\u001b[0;34m(self, simulate, *q_x)\u001b[0m\n\u001b[1;32m    685\u001b[0m     predict_method \u001b[38;5;241m=\u001b[39m \u001b[38;5;28mself\u001b[39m\u001b[38;5;241m.\u001b[39mfhe_circuit\u001b[38;5;241m.\u001b[39mencrypt_run_decrypt\n\u001b[1;32m    687\u001b[0m \u001b[38;5;66;03m# Execute the forward pass in FHE or with simulation\u001b[39;00m\n\u001b[0;32m--> 688\u001b[0m q_result \u001b[38;5;241m=\u001b[39m to_tuple(\u001b[43mpredict_method\u001b[49m\u001b[43m(\u001b[49m\u001b[38;5;241;43m*\u001b[39;49m\u001b[43mq_input\u001b[49m\u001b[43m)\u001b[49m)\n\u001b[1;32m    690\u001b[0m \u001b[38;5;28;01massert\u001b[39;00m \u001b[38;5;28mlen\u001b[39m(q_result) \u001b[38;5;241m==\u001b[39m \u001b[38;5;28mlen\u001b[39m(q_result_by_output), (\n\u001b[1;32m    691\u001b[0m     \u001b[38;5;124m\"\u001b[39m\u001b[38;5;124mNumber of outputs does not match the number of output quantizers.\u001b[39m\u001b[38;5;130;01m\\n\u001b[39;00m\u001b[38;5;124m\"\u001b[39m\n\u001b[1;32m    692\u001b[0m     \u001b[38;5;124mf\u001b[39m\u001b[38;5;124m\"\u001b[39m\u001b[38;5;132;01m{\u001b[39;00m\u001b[38;5;28mlen\u001b[39m(q_result)\u001b[38;5;132;01m=}\u001b[39;00m\u001b[38;5;124m!=\u001b[39m\u001b[38;5;132;01m{\u001b[39;00m\u001b[38;5;28mlen\u001b[39m(\u001b[38;5;28mself\u001b[39m\u001b[38;5;241m.\u001b[39moutput_quantizers)\u001b[38;5;132;01m=}\u001b[39;00m\u001b[38;5;124m\"\u001b[39m\n\u001b[1;32m    693\u001b[0m )\n\u001b[1;32m    694\u001b[0m \u001b[38;5;28;01mfor\u001b[39;00m elt_index, elt \u001b[38;5;129;01min\u001b[39;00m \u001b[38;5;28menumerate\u001b[39m(q_result):\n",
      "File \u001b[0;32m~/Workspace/Programming_Projects/homomorphic-ml-project/.venv/lib/python3.10/site-packages/concrete/fhe/compilation/circuit.py:112\u001b[0m, in \u001b[0;36mCircuit.simulate\u001b[0;34m(self, *args)\u001b[0m\n\u001b[1;32m     99\u001b[0m \u001b[38;5;28;01mdef\u001b[39;00m\u001b[38;5;250m \u001b[39m\u001b[38;5;21msimulate\u001b[39m(\u001b[38;5;28mself\u001b[39m, \u001b[38;5;241m*\u001b[39margs: Any) \u001b[38;5;241m-\u001b[39m\u001b[38;5;241m>\u001b[39m Any:\n\u001b[1;32m    100\u001b[0m \u001b[38;5;250m    \u001b[39m\u001b[38;5;124;03m\"\"\"\u001b[39;00m\n\u001b[1;32m    101\u001b[0m \u001b[38;5;124;03m    Simulate execution of the circuit.\u001b[39;00m\n\u001b[1;32m    102\u001b[0m \n\u001b[0;32m   (...)\u001b[0m\n\u001b[1;32m    109\u001b[0m \u001b[38;5;124;03m            result of the simulation\u001b[39;00m\n\u001b[1;32m    110\u001b[0m \u001b[38;5;124;03m    \"\"\"\u001b[39;00m\n\u001b[0;32m--> 112\u001b[0m     \u001b[38;5;28;01mreturn\u001b[39;00m \u001b[38;5;28;43mself\u001b[39;49m\u001b[38;5;241;43m.\u001b[39;49m\u001b[43m_function\u001b[49m\u001b[38;5;241;43m.\u001b[39;49m\u001b[43msimulate\u001b[49m\u001b[43m(\u001b[49m\u001b[38;5;241;43m*\u001b[39;49m\u001b[43margs\u001b[49m\u001b[43m)\u001b[49m\n",
      "File \u001b[0;32m~/Workspace/Programming_Projects/homomorphic-ml-project/.venv/lib/python3.10/site-packages/concrete/fhe/compilation/module.py:188\u001b[0m, in \u001b[0;36mFheFunction.simulate\u001b[0;34m(self, *args)\u001b[0m\n\u001b[1;32m    175\u001b[0m \u001b[38;5;28;01mdef\u001b[39;00m\u001b[38;5;250m \u001b[39m\u001b[38;5;21msimulate\u001b[39m(\u001b[38;5;28mself\u001b[39m, \u001b[38;5;241m*\u001b[39margs: Any) \u001b[38;5;241m-\u001b[39m\u001b[38;5;241m>\u001b[39m Any:\n\u001b[1;32m    176\u001b[0m \u001b[38;5;250m    \u001b[39m\u001b[38;5;124;03m\"\"\"\u001b[39;00m\n\u001b[1;32m    177\u001b[0m \u001b[38;5;124;03m    Simulate execution of the function.\u001b[39;00m\n\u001b[1;32m    178\u001b[0m \n\u001b[0;32m   (...)\u001b[0m\n\u001b[1;32m    185\u001b[0m \u001b[38;5;124;03m            result of the simulation\u001b[39;00m\n\u001b[1;32m    186\u001b[0m \u001b[38;5;124;03m    \"\"\"\u001b[39;00m\n\u001b[0;32m--> 188\u001b[0m     \u001b[38;5;28;01mreturn\u001b[39;00m \u001b[38;5;28mself\u001b[39m\u001b[38;5;241m.\u001b[39m_simulate_decrypt(\u001b[38;5;28;43mself\u001b[39;49m\u001b[38;5;241;43m.\u001b[39;49m\u001b[43m_simulate_run\u001b[49m\u001b[43m(\u001b[49m\u001b[38;5;28;43mself\u001b[39;49m\u001b[38;5;241;43m.\u001b[39;49m\u001b[43m_simulate_encrypt\u001b[49m\u001b[43m(\u001b[49m\u001b[38;5;241;43m*\u001b[39;49m\u001b[43margs\u001b[49m\u001b[43m)\u001b[49m\u001b[43m)\u001b[49m)\n",
      "File \u001b[0;32m~/Workspace/Programming_Projects/homomorphic-ml-project/.venv/lib/python3.10/site-packages/concrete/fhe/compilation/module.py:164\u001b[0m, in \u001b[0;36mFheFunction._simulate_run\u001b[0;34m(self, *args)\u001b[0m\n\u001b[1;32m    159\u001b[0m \u001b[38;5;28;01mdef\u001b[39;00m\u001b[38;5;250m \u001b[39m\u001b[38;5;21m_simulate_run\u001b[39m(\n\u001b[1;32m    160\u001b[0m     \u001b[38;5;28mself\u001b[39m,\n\u001b[1;32m    161\u001b[0m     \u001b[38;5;241m*\u001b[39margs: Optional[Union[Value, Tuple[Optional[Value], \u001b[38;5;241m.\u001b[39m\u001b[38;5;241m.\u001b[39m\u001b[38;5;241m.\u001b[39m]]],\n\u001b[1;32m    162\u001b[0m ) \u001b[38;5;241m-\u001b[39m\u001b[38;5;241m>\u001b[39m Union[Value, Tuple[Value, \u001b[38;5;241m.\u001b[39m\u001b[38;5;241m.\u001b[39m\u001b[38;5;241m.\u001b[39m]]:\n\u001b[0;32m--> 164\u001b[0m     \u001b[38;5;28;01mreturn\u001b[39;00m \u001b[38;5;28;43mself\u001b[39;49m\u001b[38;5;241;43m.\u001b[39;49m\u001b[43msimulation_runtime\u001b[49m\u001b[38;5;241;43m.\u001b[39;49m\u001b[43mval\u001b[49m\u001b[38;5;241;43m.\u001b[39;49m\u001b[43mserver\u001b[49m\u001b[38;5;241;43m.\u001b[39;49m\u001b[43mrun\u001b[49m\u001b[43m(\u001b[49m\u001b[38;5;241;43m*\u001b[39;49m\u001b[43margs\u001b[49m\u001b[43m,\u001b[49m\u001b[43m \u001b[49m\u001b[43mfunction_name\u001b[49m\u001b[38;5;241;43m=\u001b[39;49m\u001b[38;5;28;43mself\u001b[39;49m\u001b[38;5;241;43m.\u001b[39;49m\u001b[43mname\u001b[49m\u001b[43m)\u001b[49m\n",
      "File \u001b[0;32m~/Workspace/Programming_Projects/homomorphic-ml-project/.venv/lib/python3.10/site-packages/concrete/fhe/compilation/server.py:440\u001b[0m, in \u001b[0;36mServer.run\u001b[0;34m(self, evaluation_keys, function_name, *args)\u001b[0m\n\u001b[1;32m    435\u001b[0m         unwrapped_args\u001b[38;5;241m.\u001b[39mappend(\n\u001b[1;32m    436\u001b[0m             simulated_client_circuit\u001b[38;5;241m.\u001b[39mval\u001b[38;5;241m.\u001b[39msimulate_prepare_input(Value_(arg), i)\n\u001b[1;32m    437\u001b[0m         )\n\u001b[1;32m    439\u001b[0m \u001b[38;5;28;01mif\u001b[39;00m \u001b[38;5;28mself\u001b[39m\u001b[38;5;241m.\u001b[39mis_simulated:\n\u001b[0;32m--> 440\u001b[0m     result \u001b[38;5;241m=\u001b[39m \u001b[43mserver_circuit\u001b[49m\u001b[38;5;241;43m.\u001b[39;49m\u001b[43msimulate\u001b[49m\u001b[43m(\u001b[49m\u001b[43munwrapped_args\u001b[49m\u001b[43m)\u001b[49m\n\u001b[1;32m    441\u001b[0m \u001b[38;5;28;01melse\u001b[39;00m:\n\u001b[1;32m    442\u001b[0m     \u001b[38;5;28;01massert\u001b[39;00m evaluation_keys \u001b[38;5;129;01mis\u001b[39;00m \u001b[38;5;129;01mnot\u001b[39;00m \u001b[38;5;28;01mNone\u001b[39;00m\n",
      "\u001b[0;31mKeyboardInterrupt\u001b[0m: "
     ]
    }
   ],
   "source": [
    "x_test_q = quantized_module.quantize_input(data.numpy())\n",
    "\n",
    "y_pred_q = quantized_module.quantized_forward(x_test_q, fhe=\"simulate\")\n",
    "y_pred_q"
   ]
  },
  {
   "cell_type": "code",
   "execution_count": null,
   "metadata": {},
   "outputs": [
    {
     "name": "stdout",
     "output_type": "stream",
     "text": [
      "CPU times: user 6min 22s, sys: 1min 32s, total: 7min 54s\n",
      "Wall time: 1min 7s\n"
     ]
    },
    {
     "ename": "",
     "evalue": "",
     "output_type": "error",
     "traceback": [
      "\u001b[1;31mThe Kernel crashed while executing code in the current cell or a previous cell. \n",
      "\u001b[1;31mPlease review the code in the cell(s) to identify a possible cause of the failure. \n",
      "\u001b[1;31mClick <a href='https://aka.ms/vscodeJupyterKernelCrash'>here</a> for more info. \n",
      "\u001b[1;31mView Jupyter <a href='command:jupyter.viewOutput'>log</a> for further details."
     ]
    }
   ],
   "source": [
    "%%time \n",
    "y_pred_q = quantized_module.forward(data.numpy(), fhe=\"simulate\")\n",
    "\n",
    "# Executing \"fhe=execute\", 675 mins later: incomplete. DUDEEEE"
   ]
  },
  {
   "cell_type": "code",
   "execution_count": null,
   "metadata": {},
   "outputs": [],
   "source": [
    "%%time \n",
    "y_pred_q = quantized_module.forward(data.numpy(), fhe=\"execute\")\n",
    "\n",
    "# Executing \"fhe=execute\", 675 mins later: incomplete. DUDEEEE"
   ]
  },
  {
   "cell_type": "code",
   "execution_count": null,
   "metadata": {},
   "outputs": [
    {
     "data": {
      "text/plain": [
       "(512, 9)"
      ]
     },
     "execution_count": 90,
     "metadata": {},
     "output_type": "execute_result"
    }
   ],
   "source": [
    "y_pred_q.shape"
   ]
  },
  {
   "cell_type": "code",
   "execution_count": null,
   "metadata": {},
   "outputs": [
    {
     "data": {
      "text/plain": [
       "array([[ 0.03276412, -0.00211879,  0.03565203, ...,  0.03619932,\n",
       "        -0.02813118, -0.01151284],\n",
       "       [ 0.02468891,  0.00476307,  0.02608331, ...,  0.02699665,\n",
       "        -0.02203268, -0.02011517],\n",
       "       [ 0.06110422,  0.01382664,  0.01682208, ...,  0.02568617,\n",
       "        -0.03837345, -0.04335977],\n",
       "       ...,\n",
       "       [ 0.03316678, -0.00858335,  0.03064438, ...,  0.03615539,\n",
       "        -0.02316013, -0.01594213],\n",
       "       [ 0.05169657,  0.0280516 ,  0.00980843, ...,  0.01884091,\n",
       "        -0.04256846, -0.03390819],\n",
       "       [ 0.04031953, -0.00389051,  0.02708631, ...,  0.03195306,\n",
       "        -0.02750156, -0.02012981]])"
      ]
     },
     "execution_count": 91,
     "metadata": {},
     "output_type": "execute_result"
    }
   ],
   "source": [
    "y_fhe_pred = quantized_module.dequantize_output(y_pred_q)\n",
    "y_fhe_pred"
   ]
  },
  {
   "cell_type": "code",
   "execution_count": null,
   "metadata": {},
   "outputs": [
    {
     "data": {
      "text/plain": [
       "tensor([[-4.5673, -3.5485,  3.1169,  ...,  6.0178,  0.3435,  5.7740],\n",
       "        [-1.4372,  0.5897, -1.6821,  ...,  1.9655,  1.5347, -0.6311],\n",
       "        [ 3.9060,  3.4544, -2.9614,  ...,  2.8118, -3.9402, -2.1917],\n",
       "        ...,\n",
       "        [-0.0924, -3.7503,  0.7234,  ...,  5.6745, -0.4373,  1.7236],\n",
       "        [ 1.4205,  7.2826, -3.2965,  ..., -0.0205, -4.6725, -0.7658],\n",
       "        [-2.4499, -3.8247,  1.8770,  ...,  4.4735,  0.8730,  3.1130]],\n",
       "       grad_fn=<AddmmBackward0>)"
      ]
     },
     "execution_count": 92,
     "metadata": {},
     "output_type": "execute_result"
    }
   ],
   "source": [
    "y_plain_pred = model(data)\n",
    "y_plain_pred"
   ]
  },
  {
   "cell_type": "code",
   "execution_count": null,
   "metadata": {},
   "outputs": [
    {
     "data": {
      "text/plain": [
       "array([6, 4, 0, 2, 0, 0, 0, 0, 6, 0, 0, 2, 0, 6, 0, 0, 0, 2, 0, 5, 2, 2,\n",
       "       0, 2, 0, 2, 0, 0, 0, 0, 0, 6, 0, 0, 0, 5, 2, 0, 6, 0, 2, 0, 0, 6,\n",
       "       0, 0, 0, 2, 0, 2, 6, 0, 2, 0, 0, 0, 0, 0, 0, 2, 0, 4, 4, 0, 6, 2,\n",
       "       0, 0, 5, 0, 0, 0, 0, 2, 5, 0, 5, 0, 0, 5, 0, 0, 0, 0, 2, 2, 0, 2,\n",
       "       0, 0, 0, 0, 0, 0, 0, 0, 2, 0, 0, 0, 6, 0, 6, 0, 2, 2, 0, 0, 0, 0,\n",
       "       0, 2, 0, 0, 2, 0, 0, 0, 0, 0, 2, 4, 2, 2, 0, 2, 0, 0, 0, 2, 0, 0,\n",
       "       6, 0, 0, 4, 0, 2, 2, 0, 0, 6, 0, 0, 0, 0, 0, 2, 0, 0, 5, 5, 0, 0,\n",
       "       0, 1, 2, 0, 0, 2, 0, 0, 5, 0, 0, 0, 5, 0, 2, 0, 2, 4, 0, 6, 0, 6,\n",
       "       0, 6, 0, 6, 0, 0, 0, 5, 0, 0, 0, 0, 0, 4, 5, 0, 5, 2, 0, 0, 0, 2,\n",
       "       0, 0, 0, 0, 0, 5, 0, 0, 0, 0, 2, 0, 0, 4, 0, 0, 0, 0, 0, 0, 2, 6,\n",
       "       2, 2, 2, 0, 0, 0, 2, 0, 0, 5, 5, 0, 0, 0, 2, 5, 2, 0, 2, 2, 0, 0,\n",
       "       0, 0, 0, 0, 2, 4, 0, 0, 5, 0, 0, 0, 2, 0, 2, 0, 0, 0, 0, 2, 4, 2,\n",
       "       2, 2, 0, 0, 0, 0, 5, 6, 0, 5, 0, 0, 0, 5, 6, 6, 0, 0, 0, 0, 0, 0,\n",
       "       0, 2, 0, 0, 2, 0, 0, 0, 2, 0, 0, 5, 6, 0, 2, 0, 0, 4, 5, 0, 0, 0,\n",
       "       2, 0, 0, 0, 2, 0, 0, 5, 2, 2, 0, 0, 0, 0, 0, 1, 0, 0, 0, 0, 2, 0,\n",
       "       4, 0, 6, 6, 6, 0, 0, 0, 0, 0, 0, 2, 0, 2, 0, 0, 0, 0, 5, 0, 0, 1,\n",
       "       0, 5, 0, 2, 2, 1, 6, 2, 0, 2, 0, 0, 2, 0, 0, 4, 0, 0, 0, 0, 4, 0,\n",
       "       2, 0, 0, 0, 2, 6, 5, 0, 0, 2, 0, 0, 0, 0, 0, 0, 0, 0, 0, 0, 2, 0,\n",
       "       0, 6, 2, 0, 4, 2, 2, 0, 0, 0, 0, 2, 0, 5, 0, 0, 0, 2, 6, 1, 6, 0,\n",
       "       0, 0, 2, 0, 0, 0, 0, 4, 2, 2, 0, 0, 2, 0, 2, 2, 2, 0, 5, 0, 2, 0,\n",
       "       2, 0, 6, 2, 0, 0, 0, 0, 6, 2, 0, 0, 0, 2, 0, 0, 0, 2, 0, 2, 0, 6,\n",
       "       2, 6, 0, 0, 0, 0, 0, 0, 2, 5, 5, 2, 0, 0, 0, 5, 0, 0, 2, 0, 6, 2,\n",
       "       0, 0, 2, 5, 0, 0, 6, 0, 4, 0, 2, 0, 0, 0, 0, 4, 0, 0, 0, 2, 4, 5,\n",
       "       0, 2, 0, 6, 0, 0])"
      ]
     },
     "execution_count": 93,
     "metadata": {},
     "output_type": "execute_result"
    }
   ],
   "source": [
    "np.argmax(y_fhe_pred, axis=1)"
   ]
  },
  {
   "cell_type": "code",
   "execution_count": null,
   "metadata": {},
   "outputs": [
    {
     "data": {
      "text/plain": [
       "array([6, 4, 4, 6, 0, 1, 8, 0, 6, 8, 8, 6, 8, 6, 0, 8, 0, 2, 0, 5, 2, 0,\n",
       "       1, 8, 8, 0, 1, 6, 6, 0, 0, 8, 0, 0, 1, 2, 2, 3, 7, 3, 5, 6, 4, 8,\n",
       "       0, 3, 6, 2, 6, 7, 3, 1, 3, 3, 0, 1, 2, 0, 0, 0, 4, 4, 4, 0, 8, 3,\n",
       "       4, 0, 2, 0, 0, 8, 0, 6, 2, 6, 5, 1, 1, 5, 2, 0, 4, 0, 3, 8, 4, 5,\n",
       "       0, 0, 8, 8, 6, 0, 3, 4, 2, 0, 0, 1, 8, 3, 8, 3, 3, 3, 4, 0, 1, 1,\n",
       "       4, 0, 1, 1, 5, 3, 1, 0, 8, 4, 0, 4, 2, 8, 4, 5, 8, 1, 4, 5, 0, 8,\n",
       "       8, 0, 8, 4, 0, 0, 3, 1, 8, 6, 8, 8, 4, 0, 1, 5, 3, 6, 7, 5, 0, 4,\n",
       "       8, 1, 7, 0, 1, 6, 1, 4, 5, 6, 1, 8, 5, 0, 7, 0, 3, 4, 6, 3, 0, 7,\n",
       "       2, 6, 8, 6, 8, 0, 5, 7, 8, 0, 1, 0, 0, 4, 2, 4, 8, 5, 0, 0, 8, 2,\n",
       "       0, 1, 0, 4, 8, 2, 8, 0, 0, 3, 8, 1, 8, 4, 8, 0, 4, 1, 1, 0, 2, 6,\n",
       "       7, 5, 5, 8, 4, 4, 5, 1, 1, 5, 7, 4, 0, 4, 3, 2, 8, 8, 0, 6, 0, 2,\n",
       "       3, 6, 0, 5, 0, 4, 0, 8, 5, 3, 4, 6, 3, 0, 3, 4, 1, 8, 0, 3, 4, 7,\n",
       "       5, 3, 0, 8, 0, 0, 5, 6, 4, 2, 0, 8, 6, 8, 6, 7, 8, 4, 0, 4, 1, 8,\n",
       "       8, 5, 3, 1, 3, 4, 4, 4, 3, 0, 1, 5, 8, 8, 7, 0, 8, 8, 2, 0, 8, 1,\n",
       "       2, 1, 4, 1, 6, 5, 0, 5, 3, 8, 8, 4, 1, 4, 0, 1, 3, 0, 4, 1, 3, 4,\n",
       "       7, 1, 3, 6, 8, 0, 0, 0, 1, 1, 1, 0, 1, 5, 0, 0, 0, 4, 7, 8, 1, 1,\n",
       "       3, 5, 8, 3, 3, 1, 6, 8, 8, 3, 0, 6, 5, 5, 6, 1, 7, 1, 6, 5, 4, 0,\n",
       "       3, 0, 4, 0, 2, 8, 7, 0, 0, 2, 4, 0, 1, 1, 8, 0, 0, 4, 8, 5, 3, 4,\n",
       "       1, 6, 3, 2, 4, 8, 3, 3, 3, 8, 8, 7, 1, 5, 4, 5, 4, 8, 6, 1, 6, 0,\n",
       "       0, 0, 2, 8, 0, 1, 4, 8, 8, 8, 0, 8, 8, 6, 8, 2, 2, 1, 5, 6, 2, 1,\n",
       "       0, 0, 3, 8, 0, 4, 8, 8, 8, 5, 1, 6, 8, 4, 7, 8, 0, 6, 8, 2, 1, 8,\n",
       "       3, 6, 0, 2, 8, 1, 0, 0, 3, 5, 5, 0, 0, 4, 1, 5, 3, 4, 2, 0, 7, 8,\n",
       "       1, 0, 5, 8, 4, 4, 8, 8, 7, 0, 8, 1, 1, 0, 0, 6, 1, 0, 3, 0, 4, 5,\n",
       "       6, 4, 0, 6, 1, 6])"
      ]
     },
     "execution_count": 94,
     "metadata": {},
     "output_type": "execute_result"
    }
   ],
   "source": [
    "np.argmax(y_plain_pred.detach().numpy(), axis=1)"
   ]
  },
  {
   "cell_type": "code",
   "execution_count": null,
   "metadata": {},
   "outputs": [
    {
     "name": "stdout",
     "output_type": "stream",
     "text": [
      "0.8203125 0.29296875\n"
     ]
    }
   ],
   "source": [
    "labels = target.detach().cpu().numpy()\n",
    "\n",
    "plain_acc = accuracy(np.argmax(y_plain_pred.detach().numpy(), axis=1), labels)\n",
    "fhe_acc = accuracy(np.argmax(y_fhe_pred, axis=1), labels)\n",
    "\n",
    "print(plain_acc, fhe_acc)"
   ]
  },
  {
   "cell_type": "code",
   "execution_count": 70,
   "metadata": {},
   "outputs": [
    {
     "name": "stdout",
     "output_type": "stream",
     "text": [
      "quantized input: [[[[  6  -3 -12 ... -29 -20 -29]\n",
      "   [  6   6 -12 ... -29 -29 -20]\n",
      "   [  6   6  -3 ... -20 -20 -12]\n",
      "   ...\n",
      "   [-12  -3  -3 ...   6 -12  -3]\n",
      "   [ -3  -3 -12 ...  -3 -29 -20]\n",
      "   [-12 -12 -12 ... -12 -20 -20]]\n",
      "\n",
      "  [[-32 -32 -32 ... -32 -32 -32]\n",
      "   [-32 -32 -32 ... -32 -32 -32]\n",
      "   [-32 -32 -32 ... -32 -32 -32]\n",
      "   ...\n",
      "   [-32 -32 -32 ... -29 -32 -32]\n",
      "   [-32 -32 -32 ... -32 -32 -32]\n",
      "   [-32 -32 -32 ... -32 -32 -32]]\n",
      "\n",
      "  [[ -3 -12 -20 ... -29 -29 -29]\n",
      "   [ -3 -12 -20 ... -29 -29 -29]\n",
      "   [ -3  -3 -12 ... -29 -29 -20]\n",
      "   ...\n",
      "   [-20 -12 -20 ...  -3 -12  -3]\n",
      "   [-12 -20 -20 ... -12 -29 -20]\n",
      "   [-20 -20 -20 ... -20 -20 -20]]]\n",
      "\n",
      "\n",
      " [[[ 14  -3  -3 ...   6  -3  -3]\n",
      "   [ 14  14  -3 ...   6   6   6]\n",
      "   [ 14  23   6 ...  -3   6  -3]\n",
      "   ...\n",
      "   [ 14   6   6 ... -12  -3   6]\n",
      "   [  6   6   6 ... -12  -3   6]\n",
      "   [  6   6   6 ... -12 -12 -12]]\n",
      "\n",
      "  [[-12 -32 -32 ... -12 -29 -29]\n",
      "   [ -3 -20 -32 ... -12 -20 -20]\n",
      "   [-12   6 -29 ... -20 -20 -32]\n",
      "   ...\n",
      "   [ -3 -20 -12 ... -32 -29 -20]\n",
      "   [-12 -20 -20 ... -32 -29 -20]\n",
      "   [-20 -20 -20 ... -32 -32 -32]]\n",
      "\n",
      "  [[ 14  -3 -12 ...  14  -3  -3]\n",
      "   [ 23   6 -12 ...  14   6   6]\n",
      "   [ 14  23  -3 ...   6   6  -3]\n",
      "   ...\n",
      "   [ 14   6  14 ...  -3   6   6]\n",
      "   [ 14   6   6 ...  -3  -3   6]\n",
      "   [  6   6   6 ...  -3  -3  -3]]]\n",
      "\n",
      "\n",
      " [[[ 31  31  31 ...  23  23  23]\n",
      "   [ 31  31  31 ...  31  23  23]\n",
      "   [ 31  23  31 ...  23   6 -12]\n",
      "   ...\n",
      "   [ 31  23  14 ...  23   6   6]\n",
      "   [ 31  23  14 ...   6   6   6]\n",
      "   [ 23  14  14 ...  23  23 -12]]\n",
      "\n",
      "  [[ 31  23  23 ...   6   6  14]\n",
      "   [ 31  23  23 ...  14  14   6]\n",
      "   [ 23  14  23 ...  14 -12 -32]\n",
      "   ...\n",
      "   [ 23  14 -12 ...  -3 -20 -12]\n",
      "   [ 14   6 -12 ... -20 -20 -20]\n",
      "   [  6  -3 -12 ...   6   6 -32]]\n",
      "\n",
      "  [[ 31  31  31 ...  23  23  23]\n",
      "   [ 31  31  31 ...  31  23  23]\n",
      "   [ 31  23  31 ...  31   6 -12]\n",
      "   ...\n",
      "   [ 31  23  14 ...  14   6   6]\n",
      "   [ 23  23  14 ...   6   6   6]\n",
      "   [ 23  14  14 ...  23  23 -12]]]\n",
      "\n",
      "\n",
      " ...\n",
      "\n",
      "\n",
      " [[[  6 -12 -20 ... -20 -32 -29]\n",
      "   [-20  -3 -12 ... -20 -20 -20]\n",
      "   [-29 -12  -3 ... -12  -3 -20]\n",
      "   ...\n",
      "   [  6  14  23 ...  23  23  23]\n",
      "   [  6  14  23 ...  -3  14  23]\n",
      "   [ 14  14  14 ...  23   6  23]]\n",
      "\n",
      "  [[-29 -32 -32 ... -32 -32 -32]\n",
      "   [-32 -32 -32 ... -32 -32 -32]\n",
      "   [-32 -32 -32 ... -32 -32 -32]\n",
      "   ...\n",
      "   [-32 -32 -20 ...  -3  -3 -12]\n",
      "   [-32 -32 -12 ... -32 -29  -3]\n",
      "   [-29 -29 -29 ... -12 -32  -3]]\n",
      "\n",
      "  [[ -3 -20 -29 ... -29 -32 -32]\n",
      "   [-20 -20 -29 ... -29 -29 -29]\n",
      "   [-32 -20 -20 ... -20 -12 -29]\n",
      "   ...\n",
      "   [ -3 -12   6 ...  14  14  14]\n",
      "   [ -3  -3  14 ... -12  -3  23]\n",
      "   [ -3  -3  -3 ...  14  -3  14]]]\n",
      "\n",
      "\n",
      " [[[  6   6   6 ...  -3   6   6]\n",
      "   [ 14   6   6 ...   6   6   6]\n",
      "   [  6   6   6 ...   6   6   6]\n",
      "   ...\n",
      "   [  6   6   6 ...   6   6   6]\n",
      "   [  6   6   6 ...   6   6   6]\n",
      "   [  6   6   6 ...   6  -3   6]]\n",
      "\n",
      "  [[-29 -20 -20 ... -29 -20 -20]\n",
      "   [-20 -20 -20 ... -12 -20 -20]\n",
      "   [-29 -29 -20 ... -29 -20 -20]\n",
      "   ...\n",
      "   [-29 -20 -20 ... -20 -29 -20]\n",
      "   [-20 -20 -20 ... -20 -20 -20]\n",
      "   [-20 -20 -20 ... -29 -29 -20]]\n",
      "\n",
      "  [[ -3   6   6 ...  -3   6   6]\n",
      "   [  6   6   6 ...   6   6   6]\n",
      "   [ -3  -3   6 ...  -3   6   6]\n",
      "   ...\n",
      "   [ -3   6   6 ...   6  -3   6]\n",
      "   [  6   6   6 ...   6   6   6]\n",
      "   [  6   6   6 ...  -3  -3  -3]]]\n",
      "\n",
      "\n",
      " [[[ 23  14  14 ...  23  31  31]\n",
      "   [ -3 -12  14 ...  14   6  23]\n",
      "   [-20   6  23 ...  14  23  14]\n",
      "   ...\n",
      "   [ 23  23  31 ...  14  14  14]\n",
      "   [ 14  23  31 ...  14  14   6]\n",
      "   [ 14  14  31 ...  14  14  -3]]\n",
      "\n",
      "  [[-20 -20 -29 ... -12  14  31]\n",
      "   [-32 -32 -20 ... -12 -20  -3]\n",
      "   [-32 -29 -12 ...  -3   6 -12]\n",
      "   ...\n",
      "   [  6   6  14 ... -29 -29 -29]\n",
      "   [-12  -3  14 ... -32 -32 -32]\n",
      "   [-12 -29  14 ... -29 -32 -32]]\n",
      "\n",
      "  [[  6   6  -3 ...  14  23  31]\n",
      "   [-12 -12   6 ...   6   6  14]\n",
      "   [-20  -3   6 ...  14  23   6]\n",
      "   ...\n",
      "   [ 23  23  31 ...  -3  -3  -3]\n",
      "   [  6  14  31 ...  -3  -3  -3]\n",
      "   [  6  -3  23 ...  -3  -3 -12]]]]\n",
      "quantized encrypted input: 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\n"
     ]
    },
    {
     "ename": "",
     "evalue": "",
     "output_type": "error",
     "traceback": [
      "\u001b[1;31mThe Kernel crashed while executing code in the current cell or a previous cell. \n",
      "\u001b[1;31mPlease review the code in the cell(s) to identify a possible cause of the failure. \n",
      "\u001b[1;31mClick <a href='https://aka.ms/vscodeJupyterKernelCrash'>here</a> for more info. \n",
      "\u001b[1;31mView Jupyter <a href='command:jupyter.viewOutput'>log</a> for further details."
     ]
    }
   ],
   "source": [
    "# Quantize an original float input\n",
    "q_input = quantized_module.quantize_input(x_test_q)\n",
    "print(f\"\\nquantized input: {q_input}\")\n",
    "\n",
    "# Encrypt the input\n",
    "q_input_enc = quantized_module.fhe_circuit.encrypt(q_input[0:1,:,:,:])\n",
    "print(f\"\\nquantized encrypted input: {q_input_enc.serialize().hex()}\")\n",
    "\n",
    "# Execute the linear product in FHE\n",
    "q_y_enc = quantized_module.fhe_circuit.run(q_input_enc)\n",
    "print(f\"\\nquantized encrypted result: {q_y_enc.serialize().hex()}\")\n",
    "\n",
    "# Decrypt the result (integer)\n",
    "q_y = quantized_module.fhe_circuit.decrypt(q_y_enc)\n",
    "print(f\"\\ndecrypted result (still quantized): {q_y}\")\n",
    "\n",
    "# De-quantize and post-process the result\n",
    "y0 = quantized_module.post_processing(quantized_module.dequantize_output(q_y))\n",
    "print(f\"\\ndecrypted, dequantized result: {y0}\")"
   ]
  },
  {
   "cell_type": "code",
   "execution_count": null,
   "metadata": {},
   "outputs": [],
   "source": []
  }
 ],
 "metadata": {
  "accelerator": "GPU",
  "colab": {
   "gpuType": "T4",
   "provenance": [
    {
     "file_id": "1ApF2RI8UZdeWen-r2UL1Lg15h9ETQ4O5",
     "timestamp": 1729299082163
    }
   ]
  },
  "kernelspec": {
   "display_name": ".venv",
   "language": "python",
   "name": "python3"
  },
  "language_info": {
   "codemirror_mode": {
    "name": "ipython",
    "version": 3
   },
   "file_extension": ".py",
   "mimetype": "text/x-python",
   "name": "python",
   "nbconvert_exporter": "python",
   "pygments_lexer": "ipython3",
   "version": "3.10.16"
  },
  "widgets": {
   "application/vnd.jupyter.widget-state+json": {
    "342ac380362242939cc924919b233ba9": {
     "model_module": "@jupyter-widgets/base",
     "model_module_version": "1.2.0",
     "model_name": "LayoutModel",
     "state": {
      "_model_module": "@jupyter-widgets/base",
      "_model_module_version": "1.2.0",
      "_model_name": "LayoutModel",
      "_view_count": null,
      "_view_module": "@jupyter-widgets/base",
      "_view_module_version": "1.2.0",
      "_view_name": "LayoutView",
      "align_content": null,
      "align_items": null,
      "align_self": null,
      "border": null,
      "bottom": null,
      "display": null,
      "flex": null,
      "flex_flow": null,
      "grid_area": null,
      "grid_auto_columns": null,
      "grid_auto_flow": null,
      "grid_auto_rows": null,
      "grid_column": null,
      "grid_gap": null,
      "grid_row": null,
      "grid_template_areas": null,
      "grid_template_columns": null,
      "grid_template_rows": null,
      "height": null,
      "justify_content": null,
      "justify_items": null,
      "left": null,
      "margin": null,
      "max_height": null,
      "max_width": null,
      "min_height": null,
      "min_width": null,
      "object_fit": null,
      "object_position": null,
      "order": null,
      "overflow": null,
      "overflow_x": null,
      "overflow_y": null,
      "padding": null,
      "right": null,
      "top": null,
      "visibility": null,
      "width": null
     }
    },
    "5da287da1ce2405295ca3427cb64fdd5": {
     "model_module": "@jupyter-widgets/controls",
     "model_module_version": "1.5.0",
     "model_name": "HTMLModel",
     "state": {
      "_dom_classes": [],
      "_model_module": "@jupyter-widgets/controls",
      "_model_module_version": "1.5.0",
      "_model_name": "HTMLModel",
      "_view_count": null,
      "_view_module": "@jupyter-widgets/controls",
      "_view_module_version": "1.5.0",
      "_view_name": "HTMLView",
      "description": "",
      "description_tooltip": null,
      "layout": "IPY_MODEL_eaedd3f9354946f4b2e2251a8c4ef38e",
      "placeholder": "​",
      "style": "IPY_MODEL_75cb3dfa93f4438b856929a601ca0359",
      "value": " 50/50 [17:24&lt;00:00, 19.82s/epoch]"
     }
    },
    "75cb3dfa93f4438b856929a601ca0359": {
     "model_module": "@jupyter-widgets/controls",
     "model_module_version": "1.5.0",
     "model_name": "DescriptionStyleModel",
     "state": {
      "_model_module": "@jupyter-widgets/controls",
      "_model_module_version": "1.5.0",
      "_model_name": "DescriptionStyleModel",
      "_view_count": null,
      "_view_module": "@jupyter-widgets/base",
      "_view_module_version": "1.2.0",
      "_view_name": "StyleView",
      "description_width": ""
     }
    },
    "7a9eb310637641599b8a3caeda76269f": {
     "model_module": "@jupyter-widgets/controls",
     "model_module_version": "1.5.0",
     "model_name": "FloatProgressModel",
     "state": {
      "_dom_classes": [],
      "_model_module": "@jupyter-widgets/controls",
      "_model_module_version": "1.5.0",
      "_model_name": "FloatProgressModel",
      "_view_count": null,
      "_view_module": "@jupyter-widgets/controls",
      "_view_module_version": "1.5.0",
      "_view_name": "ProgressView",
      "bar_style": "success",
      "description": "",
      "description_tooltip": null,
      "layout": "IPY_MODEL_342ac380362242939cc924919b233ba9",
      "max": 50,
      "min": 0,
      "orientation": "horizontal",
      "style": "IPY_MODEL_e57fe91514ba43a99b360674a3f08611",
      "value": 50
     }
    },
    "a17dad5468c1420798c8f6ffef886d9a": {
     "model_module": "@jupyter-widgets/base",
     "model_module_version": "1.2.0",
     "model_name": "LayoutModel",
     "state": {
      "_model_module": "@jupyter-widgets/base",
      "_model_module_version": "1.2.0",
      "_model_name": "LayoutModel",
      "_view_count": null,
      "_view_module": "@jupyter-widgets/base",
      "_view_module_version": "1.2.0",
      "_view_name": "LayoutView",
      "align_content": null,
      "align_items": null,
      "align_self": null,
      "border": null,
      "bottom": null,
      "display": null,
      "flex": null,
      "flex_flow": null,
      "grid_area": null,
      "grid_auto_columns": null,
      "grid_auto_flow": null,
      "grid_auto_rows": null,
      "grid_column": null,
      "grid_gap": null,
      "grid_row": null,
      "grid_template_areas": null,
      "grid_template_columns": null,
      "grid_template_rows": null,
      "height": null,
      "justify_content": null,
      "justify_items": null,
      "left": null,
      "margin": null,
      "max_height": null,
      "max_width": null,
      "min_height": null,
      "min_width": null,
      "object_fit": null,
      "object_position": null,
      "order": null,
      "overflow": null,
      "overflow_x": null,
      "overflow_y": null,
      "padding": null,
      "right": null,
      "top": null,
      "visibility": null,
      "width": null
     }
    },
    "c3ae10a46e214e7c9f6adbcdc7ad97ff": {
     "model_module": "@jupyter-widgets/controls",
     "model_module_version": "1.5.0",
     "model_name": "DescriptionStyleModel",
     "state": {
      "_model_module": "@jupyter-widgets/controls",
      "_model_module_version": "1.5.0",
      "_model_name": "DescriptionStyleModel",
      "_view_count": null,
      "_view_module": "@jupyter-widgets/base",
      "_view_module_version": "1.2.0",
      "_view_name": "StyleView",
      "description_width": ""
     }
    },
    "c3c78fc779d441d8b4514ed3b96041ec": {
     "model_module": "@jupyter-widgets/controls",
     "model_module_version": "1.5.0",
     "model_name": "HTMLModel",
     "state": {
      "_dom_classes": [],
      "_model_module": "@jupyter-widgets/controls",
      "_model_module_version": "1.5.0",
      "_model_name": "HTMLModel",
      "_view_count": null,
      "_view_module": "@jupyter-widgets/controls",
      "_view_module_version": "1.5.0",
      "_view_name": "HTMLView",
      "description": "",
      "description_tooltip": null,
      "layout": "IPY_MODEL_a17dad5468c1420798c8f6ffef886d9a",
      "placeholder": "​",
      "style": "IPY_MODEL_c3ae10a46e214e7c9f6adbcdc7ad97ff",
      "value": "Epoch: 100%"
     }
    },
    "c447f4bce2e54aa497bf89cccc037ba9": {
     "model_module": "@jupyter-widgets/controls",
     "model_module_version": "1.5.0",
     "model_name": "HBoxModel",
     "state": {
      "_dom_classes": [],
      "_model_module": "@jupyter-widgets/controls",
      "_model_module_version": "1.5.0",
      "_model_name": "HBoxModel",
      "_view_count": null,
      "_view_module": "@jupyter-widgets/controls",
      "_view_module_version": "1.5.0",
      "_view_name": "HBoxView",
      "box_style": "",
      "children": [
       "IPY_MODEL_c3c78fc779d441d8b4514ed3b96041ec",
       "IPY_MODEL_7a9eb310637641599b8a3caeda76269f",
       "IPY_MODEL_5da287da1ce2405295ca3427cb64fdd5"
      ],
      "layout": "IPY_MODEL_f9f64568357d45558a6f8e2a0c319dfc"
     }
    },
    "e57fe91514ba43a99b360674a3f08611": {
     "model_module": "@jupyter-widgets/controls",
     "model_module_version": "1.5.0",
     "model_name": "ProgressStyleModel",
     "state": {
      "_model_module": "@jupyter-widgets/controls",
      "_model_module_version": "1.5.0",
      "_model_name": "ProgressStyleModel",
      "_view_count": null,
      "_view_module": "@jupyter-widgets/base",
      "_view_module_version": "1.2.0",
      "_view_name": "StyleView",
      "bar_color": null,
      "description_width": ""
     }
    },
    "eaedd3f9354946f4b2e2251a8c4ef38e": {
     "model_module": "@jupyter-widgets/base",
     "model_module_version": "1.2.0",
     "model_name": "LayoutModel",
     "state": {
      "_model_module": "@jupyter-widgets/base",
      "_model_module_version": "1.2.0",
      "_model_name": "LayoutModel",
      "_view_count": null,
      "_view_module": "@jupyter-widgets/base",
      "_view_module_version": "1.2.0",
      "_view_name": "LayoutView",
      "align_content": null,
      "align_items": null,
      "align_self": null,
      "border": null,
      "bottom": null,
      "display": null,
      "flex": null,
      "flex_flow": null,
      "grid_area": null,
      "grid_auto_columns": null,
      "grid_auto_flow": null,
      "grid_auto_rows": null,
      "grid_column": null,
      "grid_gap": null,
      "grid_row": null,
      "grid_template_areas": null,
      "grid_template_columns": null,
      "grid_template_rows": null,
      "height": null,
      "justify_content": null,
      "justify_items": null,
      "left": null,
      "margin": null,
      "max_height": null,
      "max_width": null,
      "min_height": null,
      "min_width": null,
      "object_fit": null,
      "object_position": null,
      "order": null,
      "overflow": null,
      "overflow_x": null,
      "overflow_y": null,
      "padding": null,
      "right": null,
      "top": null,
      "visibility": null,
      "width": null
     }
    },
    "f9f64568357d45558a6f8e2a0c319dfc": {
     "model_module": "@jupyter-widgets/base",
     "model_module_version": "1.2.0",
     "model_name": "LayoutModel",
     "state": {
      "_model_module": "@jupyter-widgets/base",
      "_model_module_version": "1.2.0",
      "_model_name": "LayoutModel",
      "_view_count": null,
      "_view_module": "@jupyter-widgets/base",
      "_view_module_version": "1.2.0",
      "_view_name": "LayoutView",
      "align_content": null,
      "align_items": null,
      "align_self": null,
      "border": null,
      "bottom": null,
      "display": null,
      "flex": null,
      "flex_flow": null,
      "grid_area": null,
      "grid_auto_columns": null,
      "grid_auto_flow": null,
      "grid_auto_rows": null,
      "grid_column": null,
      "grid_gap": null,
      "grid_row": null,
      "grid_template_areas": null,
      "grid_template_columns": null,
      "grid_template_rows": null,
      "height": null,
      "justify_content": null,
      "justify_items": null,
      "left": null,
      "margin": null,
      "max_height": null,
      "max_width": null,
      "min_height": null,
      "min_width": null,
      "object_fit": null,
      "object_position": null,
      "order": null,
      "overflow": null,
      "overflow_x": null,
      "overflow_y": null,
      "padding": null,
      "right": null,
      "top": null,
      "visibility": null,
      "width": null
     }
    }
   }
  }
 },
 "nbformat": 4,
 "nbformat_minor": 0
}
