{
 "cells": [
  {
   "cell_type": "markdown",
   "metadata": {},
   "source": [
    "# Privacy Preserving Machine Learning\n",
    "---\n",
    "\n",
    "In this notebook, we explore the use of homomorphic encryption with machine learning, specifically a multi layer perceptron (MLP). \n",
    "\n",
    "Libraries:\n",
    "- TenSEAL by OpenMined \n",
    "- Concrete-ML by Zama. \n",
    "\n",
    "Dataset: \n",
    "- [Adult Income Dataset](https://www.kaggle.com/datasets/wenruliu/adult-income-dataset)\n",
    "\n",
    "Attribution:\n",
    "- The notebook is largely influenced by [Tenseal's tutorial](https://github.com/OpenMined/TenSEAL/blob/main/tutorials/Tutorial%201%20-%20Training%20and%20Evaluation%20of%20Logistic%20Regression%20on%20Encrypted%20Data.ipynb#)\n"
   ]
  },
  {
   "cell_type": "markdown",
   "metadata": {},
   "source": [
    "Model architecture:\n",
    "- Linear (64) \n",
    "- ReLU \n",
    "- Linear (2)  // 2 output class"
   ]
  },
  {
   "cell_type": "code",
   "execution_count": 1,
   "metadata": {},
   "outputs": [],
   "source": [
    "import random\n",
    "from time import time\n",
    "\n",
    "import matplotlib.pyplot as plt\n",
    "import numpy\n",
    "import numpy as np\n",
    "import pandas as pd\n",
    "import tenseal as ts\n",
    "import torch\n",
    "import torch.nn as nn\n",
    "\n",
    "from tqdm.auto import tqdm\n",
    "\n",
    "from concrete.ml.torch.compile import compile_torch_model\n",
    "from sklearn.metrics import accuracy_score\n",
    "from sklearn.model_selection import train_test_split\n",
    "from sklearn.preprocessing import StandardScaler"
   ]
  },
  {
   "cell_type": "markdown",
   "metadata": {},
   "source": [
    "# Dataset preparation"
   ]
  },
  {
   "cell_type": "code",
   "execution_count": 3,
   "metadata": {},
   "outputs": [],
   "source": [
    "df = pd.read_csv(\".data/adult.csv\")"
   ]
  },
  {
   "cell_type": "code",
   "execution_count": 4,
   "metadata": {},
   "outputs": [],
   "source": [
    "class Dataset(torch.utils.data.Dataset):\n",
    "      def __init__(self, df, train=True, scaler=None, one_hot_encoder=None):\n",
    "          # Make a copy of the dataframe to avoid modifying the original\n",
    "          cdf = df.copy()\n",
    "\n",
    "          # Handle missing values\n",
    "          cdf = cdf.replace('?', np.nan)\n",
    "\n",
    "          # Fill missing values with the most common value for categorical features\n",
    "          categorical_cols = ['workclass', 'occupation', 'native-country']\n",
    "          for col in categorical_cols:\n",
    "              cdf[col] = cdf[col].fillna(cdf[col].mode()[0])\n",
    "\n",
    "          # Process target column first (before one-hot encoding)\n",
    "          if train:\n",
    "              cdf['income'] = cdf['income'].map({'>50K': 1, '<=50K': 0})\n",
    "              target = cdf['income'].values\n",
    "              cdf.drop('income', axis=1, inplace=True)\n",
    "          else:\n",
    "              # For test set\n",
    "              if 'income' in cdf.columns:\n",
    "                  cdf['income'] = cdf['income'].map({'>50K': 1, '<=50K': 0})\n",
    "                  target = cdf['income'].values\n",
    "                  cdf.drop('income', axis=1, inplace=True)\n",
    "              else:\n",
    "                  target = None\n",
    "\n",
    "          # Extract numeric and categorical columns\n",
    "          numeric_cols = ['age', 'fnlwgt', 'educational-num', 'capital-gain', 'capital-loss',\n",
    "  'hours-per-week']\n",
    "          cat_cols = [col for col in cdf.columns if col not in numeric_cols]\n",
    "\n",
    "          # Normalize numeric columns\n",
    "          if train:\n",
    "              # If training data, fit a new scaler\n",
    "              self.scaler = StandardScaler()\n",
    "              cdf[numeric_cols] = self.scaler.fit_transform(cdf[numeric_cols])\n",
    "          else:\n",
    "              # If test data, use the provided scaler\n",
    "              if scaler is not None:\n",
    "                  cdf[numeric_cols] = scaler.transform(cdf[numeric_cols])\n",
    "\n",
    "          # One-hot encode categorical features\n",
    "          if train:\n",
    "              # Save original categorical data for reference\n",
    "              self.categorical_data = cdf[cat_cols].copy()\n",
    "              # Apply one-hot encoding\n",
    "              cdf_encoded = pd.get_dummies(cdf, columns=cat_cols)\n",
    "              # Save column names for future reference\n",
    "              self.encoded_columns = cdf_encoded.columns\n",
    "              processed_data = cdf_encoded\n",
    "          else:\n",
    "              # For test data, ensure we have the same columns as training\n",
    "              if one_hot_encoder is not None:\n",
    "                  # One-hot encode the categorical columns\n",
    "                  test_encoded = pd.get_dummies(cdf, columns=cat_cols)\n",
    "\n",
    "                  # Add missing columns that are in training but not in test\n",
    "                  for col in one_hot_encoder:\n",
    "                      if col not in test_encoded.columns:\n",
    "                          test_encoded[col] = 0\n",
    "\n",
    "                  # Ensure columns are in the same order as training\n",
    "                  processed_data = test_encoded[one_hot_encoder]\n",
    "\n",
    "          # Convert to numpy array\n",
    "          self.data = processed_data.values.astype('float32')\n",
    "          self.target = target\n",
    "          self.nfeatures = self.data.shape[1]\n",
    "          self.train = train\n",
    "\n",
    "      def __len__(self):\n",
    "          return len(self.data)\n",
    "\n",
    "      def __getitem__(self, idx):\n",
    "          if self.target is not None:\n",
    "              return self.data[idx], self.target[idx]\n",
    "          else:\n",
    "              return self.data[idx], np.nan"
   ]
  },
  {
   "cell_type": "code",
   "execution_count": 11,
   "metadata": {},
   "outputs": [],
   "source": [
    "TEST_BATCH_SIZE  = 64\n",
    "TRAIN_BATCH_SIZE = 512"
   ]
  },
  {
   "cell_type": "code",
   "execution_count": 12,
   "metadata": {},
   "outputs": [
    {
     "name": "stdout",
     "output_type": "stream",
     "text": [
      "Training data shape: (39073, 105)\n",
      "Test data shape: (9769, 105)\n",
      "Number of features: 105\n"
     ]
    }
   ],
   "source": [
    "# Split the dataset into training and validation sets\n",
    "train_df, test_df = train_test_split(df, test_size=0.2, random_state=42)\n",
    "\n",
    "# Create training dataset first\n",
    "train_dataset = Dataset(train_df, train=True)\n",
    "\n",
    "# Create test dataset using the same scaler and one-hot encoding as training\n",
    "test_dataset = Dataset(test_df, train=False,\n",
    "                    scaler=train_dataset.scaler,\n",
    "                    one_hot_encoder=train_dataset.encoded_columns)\n",
    "\n",
    "# Create data loaders\n",
    "dataloader = torch.utils.data.DataLoader(train_dataset, batch_size=TRAIN_BATCH_SIZE, shuffle=True)\n",
    "testloader = torch.utils.data.DataLoader(test_dataset, batch_size=TEST_BATCH_SIZE, shuffle=False)\n",
    "\n",
    "# Verify shapes match (features should be same dimension)\n",
    "print(f\"Training data shape: {train_dataset.data.shape}\")\n",
    "print(f\"Test data shape: {test_dataset.data.shape}\")\n",
    "print(f\"Number of features: {train_dataset.nfeatures}\")"
   ]
  },
  {
   "cell_type": "code",
   "execution_count": 13,
   "metadata": {},
   "outputs": [
    {
     "data": {
      "text/plain": [
       "[tensor([[-0.5554, -0.8146, -0.0298,  ...,  1.0000,  0.0000,  0.0000],\n",
       "         [ 0.6105, -0.0519,  1.1367,  ...,  1.0000,  0.0000,  0.0000],\n",
       "         [ 1.0477,  0.4777, -0.4187,  ...,  1.0000,  0.0000,  0.0000],\n",
       "         ...,\n",
       "         [-1.4298, -0.6143, -1.9741,  ...,  1.0000,  0.0000,  0.0000],\n",
       "         [-0.9926, -1.5955, -0.0298,  ...,  1.0000,  0.0000,  0.0000],\n",
       "         [ 0.9019,  2.1408, -0.4187,  ...,  1.0000,  0.0000,  0.0000]]),\n",
       " tensor([0, 0, 1, 1, 0, 0, 1, 0, 0, 0, 0, 0, 1, 0, 0, 0, 1, 0, 0, 0, 1, 0, 0, 0,\n",
       "         0, 0, 0, 0, 0, 1, 1, 0, 0, 0, 0, 0, 0, 1, 0, 0, 0, 1, 0, 0, 1, 0, 0, 0,\n",
       "         0, 0, 1, 1, 0, 0, 1, 1, 0, 0, 1, 0, 1, 1, 0, 0, 0, 0, 0, 1, 1, 0, 0, 0,\n",
       "         1, 1, 0, 0, 0, 0, 0, 0, 0, 0, 0, 1, 1, 1, 1, 0, 0, 0, 0, 1, 1, 0, 0, 0,\n",
       "         0, 0, 1, 0, 0, 1, 0, 0, 0, 0, 0, 0, 0, 0, 0, 1, 0, 1, 0, 0, 0, 0, 0, 0,\n",
       "         0, 1, 1, 0, 1, 0, 1, 0, 0, 0, 0, 0, 1, 0, 0, 0, 1, 1, 0, 0, 1, 0, 0, 0,\n",
       "         0, 0, 1, 0, 1, 1, 0, 0, 0, 0, 0, 0, 0, 1, 0, 0, 0, 0, 1, 0, 1, 0, 0, 0,\n",
       "         0, 1, 1, 1, 0, 0, 0, 0, 0, 0, 0, 0, 0, 1, 0, 1, 0, 1, 0, 0, 0, 1, 1, 1,\n",
       "         0, 1, 0, 0, 0, 0, 0, 0, 0, 1, 0, 0, 0, 0, 0, 0, 0, 0, 0, 0, 0, 1, 0, 1,\n",
       "         0, 0, 1, 0, 0, 0, 1, 0, 0, 0, 1, 0, 0, 0, 0, 0, 0, 0, 1, 0, 0, 0, 0, 0,\n",
       "         1, 0, 1, 0, 0, 0, 0, 1, 0, 1, 0, 0, 0, 0, 0, 0, 0, 0, 0, 0, 0, 0, 0, 1,\n",
       "         0, 0, 1, 1, 0, 0, 0, 1, 0, 0, 0, 0, 0, 0, 0, 0, 0, 1, 0, 0, 1, 0, 0, 0,\n",
       "         0, 0, 1, 0, 0, 0, 0, 0, 0, 0, 1, 1, 0, 0, 0, 0, 0, 0, 0, 1, 0, 1, 1, 0,\n",
       "         1, 1, 0, 0, 1, 0, 0, 0, 0, 0, 0, 1, 0, 0, 1, 0, 0, 0, 0, 0, 1, 0, 0, 0,\n",
       "         0, 0, 0, 0, 1, 1, 0, 0, 1, 1, 1, 0, 0, 0, 1, 0, 0, 0, 0, 0, 0, 0, 0, 0,\n",
       "         0, 1, 0, 0, 0, 0, 0, 0, 0, 0, 1, 0, 1, 0, 1, 0, 1, 0, 0, 0, 0, 1, 0, 0,\n",
       "         0, 0, 0, 0, 0, 0, 0, 0, 0, 0, 1, 1, 0, 0, 0, 0, 0, 0, 0, 1, 0, 1, 0, 0,\n",
       "         0, 0, 0, 0, 0, 1, 1, 0, 1, 0, 0, 0, 1, 1, 0, 0, 0, 1, 0, 0, 1, 1, 0, 1,\n",
       "         0, 0, 0, 0, 0, 0, 0, 0, 0, 0, 0, 1, 0, 0, 0, 0, 0, 1, 1, 0, 0, 0, 0, 0,\n",
       "         0, 1, 0, 0, 0, 0, 0, 0, 1, 0, 0, 0, 0, 0, 1, 0, 1, 0, 0, 0, 0, 0, 0, 0,\n",
       "         0, 0, 0, 1, 0, 0, 0, 0, 0, 0, 0, 0, 0, 0, 1, 0, 0, 1, 1, 0, 1, 0, 0, 1,\n",
       "         0, 1, 0, 0, 0, 0, 0, 1])]"
      ]
     },
     "execution_count": 13,
     "metadata": {},
     "output_type": "execute_result"
    }
   ],
   "source": [
    "next(iter(dataloader))"
   ]
  },
  {
   "cell_type": "code",
   "execution_count": 14,
   "metadata": {},
   "outputs": [
    {
     "data": {
      "text/plain": [
       "torch.Size([512, 105])"
      ]
     },
     "execution_count": 14,
     "metadata": {},
     "output_type": "execute_result"
    }
   ],
   "source": [
    "next(iter(dataloader))[0].shape"
   ]
  },
  {
   "cell_type": "code",
   "execution_count": 15,
   "metadata": {},
   "outputs": [
    {
     "data": {
      "text/plain": [
       "torch.Size([64, 105])"
      ]
     },
     "execution_count": 15,
     "metadata": {},
     "output_type": "execute_result"
    }
   ],
   "source": [
    "next(iter(testloader))[0].shape"
   ]
  },
  {
   "cell_type": "code",
   "execution_count": 16,
   "metadata": {},
   "outputs": [
    {
     "data": {
      "text/plain": [
       "153"
      ]
     },
     "execution_count": 16,
     "metadata": {},
     "output_type": "execute_result"
    }
   ],
   "source": [
    "len(testloader)"
   ]
  },
  {
   "cell_type": "markdown",
   "metadata": {},
   "source": [
    "# Baseline (Vanilla Torch)"
   ]
  },
  {
   "cell_type": "code",
   "execution_count": 17,
   "metadata": {},
   "outputs": [],
   "source": [
    "class SimpleClassifier(nn.Module):\n",
    "    def __init__(self, input_size):\n",
    "        super().__init__()\n",
    "        self.model = nn.Sequential(\n",
    "            nn.Linear(input_size, 64),\n",
    "            nn.ReLU(),\n",
    "            # nn.Linear(64, 64),\n",
    "            # nn.ReLU(),\n",
    "            nn.Linear(64, 2),\n",
    "        )\n",
    "        \n",
    "    def forward(self, x):\n",
    "        return self.model(x)"
   ]
  },
  {
   "cell_type": "code",
   "execution_count": 18,
   "metadata": {},
   "outputs": [],
   "source": [
    "# no need for mps / cuda as its a very simple network\n",
    "device = torch.device(\"cpu\")"
   ]
  },
  {
   "cell_type": "code",
   "execution_count": 19,
   "metadata": {},
   "outputs": [],
   "source": [
    "classifier = SimpleClassifier(train_dataset.nfeatures).to(device)\n",
    "\n",
    "criterion = nn.CrossEntropyLoss()\n",
    "optimizer = torch.optim.Adam(classifier.parameters(), lr=0.00003)"
   ]
  },
  {
   "cell_type": "code",
   "execution_count": 20,
   "metadata": {},
   "outputs": [
    {
     "data": {
      "application/vnd.jupyter.widget-view+json": {
       "model_id": "6df7d4cf48624aec89947147410000a9",
       "version_major": 2,
       "version_minor": 0
      },
      "text/plain": [
       "  0%|          | 0/30 [00:00<?, ?it/s]"
      ]
     },
     "metadata": {},
     "output_type": "display_data"
    },
    {
     "name": "stdout",
     "output_type": "stream",
     "text": [
      "epoch: 1\n",
      "  loss: 0.6694\n",
      "  accuracy: 0.5959\n",
      "epoch: 2\n",
      "  loss: 0.6467\n",
      "  accuracy: 0.7600\n",
      "epoch: 3\n",
      "  loss: 0.6299\n",
      "  accuracy: 0.7803\n",
      "epoch: 4\n",
      "  loss: 0.6097\n",
      "  accuracy: 0.7786\n",
      "epoch: 5\n",
      "  loss: 0.5923\n",
      "  accuracy: 0.7767\n",
      "epoch: 6\n",
      "  loss: 0.5422\n",
      "  accuracy: 0.7774\n",
      "epoch: 7\n",
      "  loss: 0.5006\n",
      "  accuracy: 0.7794\n",
      "epoch: 8\n",
      "  loss: 0.5442\n",
      "  accuracy: 0.7829\n",
      "epoch: 9\n",
      "  loss: 0.4903\n",
      "  accuracy: 0.7877\n",
      "epoch: 10\n",
      "  loss: 0.4957\n",
      "  accuracy: 0.7941\n",
      "epoch: 11\n",
      "  loss: 0.4408\n",
      "  accuracy: 0.7998\n",
      "epoch: 12\n",
      "  loss: 0.4209\n",
      "  accuracy: 0.8064\n",
      "epoch: 13\n",
      "  loss: 0.4555\n",
      "  accuracy: 0.8124\n",
      "epoch: 14\n",
      "  loss: 0.4384\n",
      "  accuracy: 0.8174\n",
      "epoch: 15\n",
      "  loss: 0.4115\n",
      "  accuracy: 0.8210\n",
      "epoch: 16\n",
      "  loss: 0.3919\n",
      "  accuracy: 0.8235\n",
      "epoch: 17\n",
      "  loss: 0.4129\n",
      "  accuracy: 0.8259\n",
      "epoch: 18\n",
      "  loss: 0.4058\n",
      "  accuracy: 0.8279\n",
      "epoch: 19\n",
      "  loss: 0.3194\n",
      "  accuracy: 0.8308\n",
      "epoch: 20\n",
      "  loss: 0.3697\n",
      "  accuracy: 0.8325\n",
      "epoch: 21\n",
      "  loss: 0.4084\n",
      "  accuracy: 0.8343\n",
      "epoch: 22\n",
      "  loss: 0.4110\n",
      "  accuracy: 0.8356\n",
      "epoch: 23\n",
      "  loss: 0.3388\n",
      "  accuracy: 0.8361\n",
      "epoch: 24\n",
      "  loss: 0.2679\n",
      "  accuracy: 0.8366\n",
      "epoch: 25\n",
      "  loss: 0.3079\n",
      "  accuracy: 0.8376\n",
      "epoch: 26\n",
      "  loss: 0.3305\n",
      "  accuracy: 0.8389\n",
      "epoch: 27\n",
      "  loss: 0.3594\n",
      "  accuracy: 0.8398\n",
      "epoch: 28\n",
      "  loss: 0.3356\n",
      "  accuracy: 0.8403\n",
      "epoch: 29\n",
      "  loss: 0.3792\n",
      "  accuracy: 0.8410\n",
      "epoch: 30\n",
      "  loss: 0.3238\n",
      "  accuracy: 0.8418\n"
     ]
    }
   ],
   "source": [
    "train_losses = [] \n",
    "train_accuracy = []\n",
    "\n",
    "epochs = 30\n",
    "\n",
    "for epoch in tqdm(range(epochs)):\n",
    "    running_correct = 0\n",
    "    running_total = 0\n",
    "    \n",
    "    classifier.train()\n",
    "    \n",
    "    for i, (data, target) in (enumerate(dataloader)):\n",
    "        data, target = data.to(device), target.to(device)\n",
    "        optimizer.zero_grad()\n",
    "        \n",
    "        output = classifier(data)\n",
    "        \n",
    "        loss = criterion(output, target)\n",
    "        loss.backward()\n",
    "        optimizer.step()\n",
    "        \n",
    "        pred = output.argmax(dim=1)\n",
    "        running_correct += (pred == target).sum().item()\n",
    "        running_total += target.size(0)\n",
    "    \n",
    "    print(f\"epoch: {epoch+1}\")\n",
    "    print(f\"  loss: {loss.item():.4f}\")\n",
    "    print(f\"  accuracy: {(running_correct / running_total):.4f}\")\n",
    "    \n",
    "    train_losses.append(loss.item())\n",
    "    train_accuracy.append(running_correct / running_total)"
   ]
  },
  {
   "cell_type": "code",
   "execution_count": 21,
   "metadata": {},
   "outputs": [
    {
     "name": "stdout",
     "output_type": "stream",
     "text": [
      "CPU times: user 2.28 ms, sys: 8.65 ms, total: 10.9 ms\n",
      "Wall time: 2.36 ms\n"
     ]
    }
   ],
   "source": [
    "%%time\n",
    "# Get a test batch\n",
    "data, target = next(iter(testloader))\n",
    "\n",
    "# Run prediction with original PyTorch model\n",
    "with torch.no_grad():\n",
    "    original_output = classifier(data)  # Using the original PyTorch model\n",
    "    original_pred = original_output.argmax(dim=1)\n",
    "    original_accuracy = accuracy_score(target.numpy(), original_pred.numpy())"
   ]
  },
  {
   "cell_type": "markdown",
   "metadata": {},
   "source": [
    "---"
   ]
  },
  {
   "cell_type": "markdown",
   "metadata": {},
   "source": [
    "# 2. Concrete ML"
   ]
  },
  {
   "cell_type": "markdown",
   "metadata": {},
   "source": [
    "### 2.1 Model Compilation\n",
    "\n",
    "Compile the previously trained vanilla torch model into FHE-equivalent"
   ]
  },
  {
   "cell_type": "code",
   "execution_count": 20,
   "metadata": {},
   "outputs": [
    {
     "data": {
      "text/plain": [
       "<concrete.ml.quantization.quantized_module.QuantizedModule at 0x323a905e0>"
      ]
     },
     "execution_count": 20,
     "metadata": {},
     "output_type": "execute_result"
    }
   ],
   "source": [
    "# Create a representative input for compilation\n",
    "torch_input = torch.randn(32, 105)\n",
    "\n",
    "# Compile the PyTorch model\n",
    "quantized_module = compile_torch_model(\n",
    "    classifier.to('cpu'),  # Our trained model\n",
    "    torch_input,           # Sample input for quantization and compilation\n",
    "    n_bits=6,              # Bit precision for quantization\n",
    "    rounding_threshold_bits={\"n_bits\": 6, \"method\": \"approximate\"}\n",
    ")\n",
    "\n",
    "quantized_module"
   ]
  },
  {
   "cell_type": "markdown",
   "metadata": {},
   "source": [
    "### 2.2 Single inference \n",
    "Perform single inference using execute and simulate methods to see how long it takes and to verify the code works"
   ]
  },
  {
   "cell_type": "code",
   "execution_count": 26,
   "metadata": {},
   "outputs": [
    {
     "name": "stdout",
     "output_type": "stream",
     "text": [
      "Original model prediction: 0\n",
      "Actual target: 0\n",
      "\n",
      "Simulated FHE prediction: 0\n",
      "Prediction matches original: True\n",
      "Both match actual target: True\n",
      "\n",
      "Original output: [[ 1.5153463 -1.4379318]]\n",
      "Dequantized output: [[ 1.54250049 -1.44298591]]\n",
      "Quantization impact (difference): [[-0.0271542   0.00505413]]\n",
      "CPU times: user 31.7 s, sys: 2.44 s, total: 34.2 s\n",
      "Wall time: 6.12 s\n"
     ]
    }
   ],
   "source": [
    "%%time \n",
    "\n",
    "# EXECUTE a single inference\n",
    "\n",
    "# Get a single test example\n",
    "data, target = next(iter(testloader))\n",
    "data = data[0].unsqueeze(0)\n",
    "target = target[0]\n",
    "\n",
    "# Original PyTorch model prediction (baseline)\n",
    "with torch.no_grad():\n",
    "    original_output = classifier(data)\n",
    "    original_pred = original_output.argmax().item()\n",
    "\n",
    "print(f\"Original model prediction: {original_pred}\")\n",
    "print(f\"Actual target: {target.item()}\")\n",
    "\n",
    "# Quantize the input\n",
    "x_test_q = quantized_module.quantize_input(data.numpy())\n",
    "\n",
    "# Run inference in simulate mode (simulates FHE behavior without encryption)\n",
    "y_pred_simulate = quantized_module.quantized_forward(x_test_q, fhe=\"execute\")\n",
    "\n",
    "# Dequantize the output to get back to original scale\n",
    "y_pred_dequantized = quantized_module.dequantize_output(y_pred_simulate)\n",
    "simulate_pred = np.argmax(y_pred_dequantized)\n",
    "\n",
    "print(f\"\\nSimulated FHE prediction: {simulate_pred}\")\n",
    "print(f\"Prediction matches original: {original_pred == simulate_pred}\")\n",
    "print(f\"Both match actual target: {original_pred == target.item() and simulate_pred == target.item()}\")\n",
    "\n",
    "# Show quantized and dequantized values to observe any precision loss\n",
    "print(f\"\\nOriginal output: {original_output.detach().numpy()}\")\n",
    "print(f\"Dequantized output: {y_pred_dequantized}\")\n",
    "print(f\"Quantization impact (difference): {original_output.detach().numpy() - y_pred_dequantized}\")"
   ]
  },
  {
   "cell_type": "code",
   "execution_count": 27,
   "metadata": {},
   "outputs": [
    {
     "name": "stdout",
     "output_type": "stream",
     "text": [
      "Running in FHE simulate mode...\n",
      "\n",
      "FHE simulation prediction: 0\n",
      "Actual target: 0\n",
      "Prediction matches target: True\n",
      "\n",
      "FHE output (dequantized): [[ 1.81829657 -1.70476236]]\n",
      "Original model prediction: 0\n",
      "Match between FHE simulation and original: True\n",
      "CPU times: user 42.5 ms, sys: 131 ms, total: 173 ms\n",
      "Wall time: 30 ms\n"
     ]
    }
   ],
   "source": [
    "%%time\n",
    "# Simulate a single inference\n",
    "\n",
    "\n",
    "# Get a single test sample (using only the first item in the batch)\n",
    "rand_id = np.random.randint(1, TEST_BATCH_SIZE)\n",
    "\n",
    "data, target = next(iter(testloader))\n",
    "data_single = data[rand_id].unsqueeze(0)  # Take just the first sample and keep batch dimension\n",
    "target_single = target[rand_id].item()    # Get the actual target value\n",
    "\n",
    "# Quantize the input\n",
    "x_test_q = quantized_module.quantize_input(data_single.numpy())\n",
    "\n",
    "# Run inference in simulation mode\n",
    "print(\"Running in FHE simulate mode...\")\n",
    "y_pred_simulate = quantized_module.quantized_forward(x_test_q, fhe=\"simulate\")\n",
    "\n",
    "# Dequantize the output\n",
    "y_pred_dequantized = quantized_module.dequantize_output(y_pred_simulate)\n",
    "simulate_pred = np.argmax(y_pred_dequantized)\n",
    "\n",
    "print(f\"\\nFHE simulation prediction: {simulate_pred}\")\n",
    "print(f\"Actual target: {target_single}\")\n",
    "print(f\"Prediction matches target: {simulate_pred == target_single}\")\n",
    "\n",
    "# Show the output\n",
    "print(f\"\\nFHE output (dequantized): {y_pred_dequantized}\")\n",
    "\n",
    "# Compare with original model prediction\n",
    "with torch.no_grad():\n",
    "    original_output = classifier(data_single)\n",
    "    original_pred = original_output.argmax().item()\n",
    "    \n",
    "print(f\"Original model prediction: {original_pred}\")\n",
    "print(f\"Match between FHE simulation and original: {original_pred == simulate_pred}\")"
   ]
  },
  {
   "cell_type": "markdown",
   "metadata": {},
   "source": [
    "### 2.3 Simulate a batch"
   ]
  },
  {
   "cell_type": "code",
   "execution_count": null,
   "metadata": {},
   "outputs": [
    {
     "name": "stdout",
     "output_type": "stream",
     "text": [
      "\n",
      "FHE Execution Results:\n",
      "Prediction: tensor([0, 0, 0, 0, 0, 0, 0, 1, 0, 0, 0, 0, 0, 0, 0, 0, 0, 0, 0, 0, 0, 0, 0, 1,\n",
      "        0, 0, 0, 0, 0, 0, 1, 1, 0, 0, 0, 0, 1, 0, 0, 0, 0, 0, 0, 0, 0, 0, 0, 0,\n",
      "        0, 1, 0, 0, 0, 1, 0, 1, 1, 0, 0, 0, 0, 0, 0, 0, 0, 0, 0, 0, 1, 1, 0, 0,\n",
      "        1, 0, 0, 0, 0, 0, 0, 0, 0, 0, 0, 0, 0, 0, 0, 0, 0, 0, 0, 0, 0, 0, 1, 0,\n",
      "        0, 1, 0, 0, 0, 0, 0, 0, 0, 1, 0, 0, 0, 0, 0, 0, 0, 0, 0, 0, 1, 1, 0, 0,\n",
      "        0, 0, 0, 0, 0, 0, 0, 0])\n",
      "Actual target: tensor([0, 0, 1, 0, 0, 0, 0, 1, 0, 0, 0, 0, 0, 0, 0, 0, 0, 0, 1, 0, 0, 1, 1, 1,\n",
      "        0, 0, 0, 0, 0, 0, 1, 1, 0, 0, 0, 0, 0, 0, 0, 0, 0, 0, 0, 0, 0, 0, 0, 1,\n",
      "        0, 1, 0, 0, 0, 1, 0, 0, 1, 0, 0, 0, 0, 0, 1, 0, 0, 1, 0, 1, 1, 0, 0, 0,\n",
      "        1, 0, 0, 0, 1, 0, 0, 0, 1, 0, 0, 0, 0, 0, 0, 0, 0, 0, 0, 0, 0, 0, 1, 0,\n",
      "        0, 1, 1, 0, 0, 0, 1, 1, 0, 1, 0, 0, 1, 0, 0, 0, 0, 0, 0, 0, 1, 0, 0, 0,\n",
      "        0, 0, 1, 0, 0, 0, 0, 0])\n",
      "Batch accuracy: 0.8516 (109/128 correct)\n",
      "\n",
      "Original Model Results:\n",
      "Original model predictions: tensor([0, 0, 0, 0, 0, 0, 0, 1, 0, 0, 0, 0, 0, 0, 0, 0, 0, 0, 0, 0, 0, 1, 0, 1,\n",
      "        0, 0, 0, 0, 0, 0, 1, 1, 0, 0, 0, 0, 1, 0, 0, 0, 0, 0, 0, 0, 0, 0, 0, 0,\n",
      "        0, 1, 0, 0, 0, 1, 0, 1, 1, 0, 0, 0, 1, 0, 0, 0, 0, 0, 0, 0, 1, 1, 0, 0,\n",
      "        1, 0, 0, 0, 0, 0, 0, 0, 0, 0, 0, 0, 0, 0, 0, 0, 0, 0, 0, 0, 0, 0, 1, 0,\n",
      "        0, 1, 0, 0, 0, 0, 0, 0, 0, 1, 0, 0, 0, 0, 0, 0, 0, 0, 0, 0, 1, 1, 0, 0,\n",
      "        0, 0, 0, 0, 0, 0, 0, 0])\n",
      "Original model accuracy: 0.8516 (109/128 correct)\n",
      "Agreement between FHE and original model: 126/128 samples\n",
      "\n",
      "Classifier Model Results:\n",
      "Classifier predictions: tensor([0, 0, 0, 0, 0, 0, 0, 1, 0, 0, 0, 0, 0, 0, 0, 0, 0, 0, 0, 0, 0, 1, 0, 1,\n",
      "        0, 0, 0, 0, 0, 0, 1, 1, 0, 0, 0, 0, 1, 0, 0, 0, 0, 0, 0, 0, 0, 0, 0, 0,\n",
      "        0, 1, 0, 0, 0, 1, 0, 1, 1, 0, 0, 0, 1, 0, 0, 0, 0, 0, 0, 0, 1, 1, 0, 0,\n",
      "        1, 0, 0, 0, 0, 0, 0, 0, 0, 0, 0, 0, 0, 0, 0, 0, 0, 0, 0, 0, 0, 0, 1, 0,\n",
      "        0, 1, 0, 0, 0, 0, 0, 0, 0, 1, 0, 0, 0, 0, 0, 0, 0, 0, 0, 0, 1, 1, 0, 0,\n",
      "        0, 0, 0, 0, 0, 0, 0, 0])\n",
      "Classifier accuracy: 0.8516 (109/128 correct)\n",
      "Agreement between FHE and classifier: 126/128 samples\n",
      "CPU times: user 4.96 s, sys: 11.5 s, total: 16.4 s\n",
      "Wall time: 2.45 s\n"
     ]
    }
   ],
   "source": [
    "%%time\n",
    "\n",
    "# Get a test batch\n",
    "data, target = next(iter(testloader))\n",
    "\n",
    "# Run prediction with original PyTorch model\n",
    "with torch.no_grad():\n",
    "    original_output = classifier(data)  # Using the original PyTorch model\n",
    "    original_pred = original_output.argmax(dim=1)\n",
    "    original_accuracy = accuracy_score(target.numpy(), original_pred.numpy())\n",
    "\n",
    "# Quantize the input for FHE compatibility\n",
    "x_test_q = quantized_module.quantize_input(data.numpy())\n",
    "\n",
    "# Run the forward pass in simulated FHE mode\n",
    "y_pred_fhe = quantized_module.quantized_forward(x_test_q, fhe=\"simulate\")\n",
    "\n",
    "# Dequantize the output back to floating point\n",
    "y_pred_fhe_dequantized = quantized_module.dequantize_output(y_pred_fhe)\n",
    "\n",
    "# Get class predictions\n",
    "fhe_pred = torch.tensor(np.argmax(y_pred_fhe_dequantized, axis=1))\n",
    "\n",
    "# Calculate batch accuracy\n",
    "accuracy = accuracy_score(target.numpy(), fhe_pred.numpy())\n",
    "\n",
    "# Display results\n",
    "print(f\"\\nFHE Execution Results:\")\n",
    "print(f\"Prediction: {fhe_pred}\")\n",
    "print(f\"Actual target: {target}\")\n",
    "print(f\"Batch accuracy: {accuracy:.4f} ({torch.sum(fhe_pred == target).item()}/{len(target)} correct)\")\n",
    "\n",
    "# Show the output (dequantized values)\n",
    "# print(f\"\\nFHE output (dequantized):\")\n",
    "# print(f\"{y_pred_fhe_dequantized}\")\n",
    "\n",
    "# Compare with the original model\n",
    "print(f\"\\nOriginal Model Results:\")\n",
    "print(f\"Original model predictions: {original_pred}\")\n",
    "print(f\"Original model accuracy: {original_accuracy:.4f} ({torch.sum(original_pred == target).item()}/{len(target)} correct)\")\n",
    "print(f\"Agreement between FHE and original model: {torch.sum(fhe_pred == original_pred).item()}/{len(fhe_pred)} samples\")\n",
    "\n",
    "# Results using the classifier (if different from model)\n",
    "# print(f\"\\nClassifier Model Results:\")\n",
    "# with torch.no_grad():\n",
    "#     classifier_output = classifier(data)\n",
    "#     classifier_pred = classifier_output.argmax(dim=1)\n",
    "#     classifier_accuracy = accuracy_score(target.numpy(), classifier_pred.numpy())\n",
    "    \n",
    "# print(f\"Classifier predictions: {classifier_pred}\")\n",
    "# print(f\"Classifier accuracy: {classifier_accuracy:.4f} ({torch.sum(classifier_pred == target).item()}/{len(target)} correct)\")\n",
    "# print(f\"Agreement between FHE and classifier: {torch.sum(fhe_pred == classifier_pred).item()}/{len(fhe_pred)} samples\")"
   ]
  },
  {
   "cell_type": "markdown",
   "metadata": {},
   "source": [
    "### 2.4 Execute a batch"
   ]
  },
  {
   "cell_type": "code",
   "execution_count": 29,
   "metadata": {},
   "outputs": [
    {
     "name": "stdout",
     "output_type": "stream",
     "text": [
      "\n",
      "FHE Execution Results:\n",
      "Prediction: tensor([0, 0, 0, 0, 0, 0, 0, 1, 0, 0, 0, 0, 0, 0, 0, 0, 0, 0, 0, 0, 0, 0, 0, 1,\n",
      "        0, 0, 0, 0, 0, 0, 1, 1, 0, 0, 0, 0, 1, 0, 0, 0, 0, 0, 0, 0, 0, 0, 0, 0,\n",
      "        0, 1, 0, 0, 0, 1, 0, 1, 1, 0, 0, 0, 1, 0, 0, 0, 0, 0, 0, 0, 1, 1, 0, 0,\n",
      "        1, 0, 0, 0, 0, 0, 0, 0, 0, 0, 0, 0, 0, 0, 0, 0, 0, 0, 0, 0, 0, 0, 1, 0,\n",
      "        0, 1, 0, 0, 0, 0, 0, 0, 0, 1, 0, 0, 0, 0, 0, 0, 0, 0, 0, 0, 1, 1, 0, 0,\n",
      "        0, 0, 0, 0, 0, 0, 0, 0])\n",
      "Actual target: tensor([0, 0, 1, 0, 0, 0, 0, 1, 0, 0, 0, 0, 0, 0, 0, 0, 0, 0, 1, 0, 0, 1, 1, 1,\n",
      "        0, 0, 0, 0, 0, 0, 1, 1, 0, 0, 0, 0, 0, 0, 0, 0, 0, 0, 0, 0, 0, 0, 0, 1,\n",
      "        0, 1, 0, 0, 0, 1, 0, 0, 1, 0, 0, 0, 0, 0, 1, 0, 0, 1, 0, 1, 1, 0, 0, 0,\n",
      "        1, 0, 0, 0, 1, 0, 0, 0, 1, 0, 0, 0, 0, 0, 0, 0, 0, 0, 0, 0, 0, 0, 1, 0,\n",
      "        0, 1, 1, 0, 0, 0, 1, 1, 0, 1, 0, 0, 1, 0, 0, 0, 0, 0, 0, 0, 1, 0, 0, 0,\n",
      "        0, 0, 1, 0, 0, 0, 0, 0])\n",
      "Batch accuracy: 0.8438 (108/128 correct)\n",
      "\n",
      "Original Model Results:\n",
      "Original model predictions: tensor([0, 0, 0, 0, 0, 0, 0, 1, 0, 0, 0, 0, 0, 0, 0, 0, 0, 0, 0, 0, 0, 1, 0, 1,\n",
      "        0, 0, 0, 0, 0, 0, 1, 1, 0, 0, 0, 0, 1, 0, 0, 0, 0, 0, 0, 0, 0, 0, 0, 0,\n",
      "        0, 1, 0, 0, 0, 1, 0, 1, 1, 0, 0, 0, 1, 0, 0, 0, 0, 0, 0, 0, 1, 1, 0, 0,\n",
      "        1, 0, 0, 0, 0, 0, 0, 0, 0, 0, 0, 0, 0, 0, 0, 0, 0, 0, 0, 0, 0, 0, 1, 0,\n",
      "        0, 1, 0, 0, 0, 0, 0, 0, 0, 1, 0, 0, 0, 0, 0, 0, 0, 0, 0, 0, 1, 1, 0, 0,\n",
      "        0, 0, 0, 0, 0, 0, 0, 0])\n",
      "Original model accuracy: 0.8516 (109/128 correct)\n",
      "Agreement between FHE and original model: 127/128 samples\n",
      "\n",
      "Classifier Model Results:\n",
      "Classifier predictions: tensor([0, 0, 0, 0, 0, 0, 0, 1, 0, 0, 0, 0, 0, 0, 0, 0, 0, 0, 0, 0, 0, 1, 0, 1,\n",
      "        0, 0, 0, 0, 0, 0, 1, 1, 0, 0, 0, 0, 1, 0, 0, 0, 0, 0, 0, 0, 0, 0, 0, 0,\n",
      "        0, 1, 0, 0, 0, 1, 0, 1, 1, 0, 0, 0, 1, 0, 0, 0, 0, 0, 0, 0, 1, 1, 0, 0,\n",
      "        1, 0, 0, 0, 0, 0, 0, 0, 0, 0, 0, 0, 0, 0, 0, 0, 0, 0, 0, 0, 0, 0, 1, 0,\n",
      "        0, 1, 0, 0, 0, 0, 0, 0, 0, 1, 0, 0, 0, 0, 0, 0, 0, 0, 0, 0, 1, 1, 0, 0,\n",
      "        0, 0, 0, 0, 0, 0, 0, 0])\n",
      "Classifier accuracy: 0.8516 (109/128 correct)\n",
      "Agreement between FHE and classifier: 127/128 samples\n",
      "CPU times: user 1h 49min 59s, sys: 6min 8s, total: 1h 56min 8s\n",
      "Wall time: 23min 2s\n"
     ]
    }
   ],
   "source": [
    "%%time\n",
    "\n",
    "# Get a test batch\n",
    "data, target = next(iter(testloader))\n",
    "\n",
    "# Run prediction with original PyTorch model\n",
    "with torch.no_grad():\n",
    "    original_output = classifier(data)  # Using the original PyTorch model\n",
    "    original_pred = original_output.argmax(dim=1)\n",
    "    original_accuracy = accuracy_score(target.numpy(), original_pred.numpy())\n",
    "\n",
    "# Quantize the input for FHE compatibility\n",
    "x_test_q = quantized_module.quantize_input(data.numpy())\n",
    "\n",
    "# Run the forward pass in simulated FHE mode\n",
    "y_pred_fhe = quantized_module.quantized_forward(x_test_q, fhe=\"execute\")\n",
    "\n",
    "# Dequantize the output back to floating point\n",
    "y_pred_fhe_dequantized = quantized_module.dequantize_output(y_pred_fhe)\n",
    "\n",
    "# Get class predictions\n",
    "fhe_pred = torch.tensor(np.argmax(y_pred_fhe_dequantized, axis=1))\n",
    "\n",
    "# Calculate batch accuracy\n",
    "accuracy = accuracy_score(target.numpy(), fhe_pred.numpy())\n",
    "\n",
    "# Display results\n",
    "print(f\"\\nFHE Execution Results:\")\n",
    "print(f\"Prediction: {fhe_pred}\")\n",
    "print(f\"Actual target: {target}\")\n",
    "print(f\"Batch accuracy: {accuracy:.4f} ({torch.sum(fhe_pred == target).item()}/{len(target)} correct)\")\n",
    "\n",
    "# Show the output (dequantized values)\n",
    "# print(f\"\\nFHE output (dequantized):\")\n",
    "# print(f\"{y_pred_fhe_dequantized}\")\n",
    "\n",
    "# Compare with the original model\n",
    "print(f\"\\nOriginal Model Results:\")\n",
    "print(f\"Original model predictions: {original_pred}\")\n",
    "print(f\"Original model accuracy: {original_accuracy:.4f} ({torch.sum(original_pred == target).item()}/{len(target)} correct)\")\n",
    "print(f\"Agreement between FHE and original model: {torch.sum(fhe_pred == original_pred).item()}/{len(fhe_pred)} samples\")\n",
    "\n",
    "# Results using the classifier (if different from model)\n",
    "print(f\"\\nClassifier Model Results:\")\n",
    "with torch.no_grad():\n",
    "    classifier_output = classifier(data)\n",
    "    classifier_pred = classifier_output.argmax(dim=1)\n",
    "    classifier_accuracy = accuracy_score(target.numpy(), classifier_pred.numpy())\n",
    "    \n",
    "print(f\"Classifier predictions: {classifier_pred}\")\n",
    "print(f\"Classifier accuracy: {classifier_accuracy:.4f} ({torch.sum(classifier_pred == target).item()}/{len(target)} correct)\")\n",
    "print(f\"Agreement between FHE and classifier: {torch.sum(fhe_pred == classifier_pred).item()}/{len(fhe_pred)} samples\")"
   ]
  },
  {
   "cell_type": "markdown",
   "metadata": {},
   "source": [
    "---\n",
    "# 3. Tenseal"
   ]
  },
  {
   "cell_type": "markdown",
   "metadata": {},
   "source": [
    "In this section, we'll implement our classifier using TenSEAL for Homomorphic Encryption (HE). TenSEAL allows us to perform computations directly on encrypted data without decryption.\n",
    "\n",
    "We'll follow these steps:\n",
    "1. Initialize TenSEAL context with appropriate parameters\n",
    "2. Create encrypted versions of our model\n",
    "3. Perform inference on encrypted data\n",
    "4. Compare performance and accuracy with plaintext model"
   ]
  },
  {
   "cell_type": "markdown",
   "metadata": {},
   "source": [
    "The TenSEAL context determines how encryption works and what operations are possible. \n",
    "Key parameters include:\n",
    "\n",
    "- **Polynomial Modulus Degree**: Controls the security level and the number of values that can be packed into a single ciphertext\n",
    "- **Coefficient Modulus Bit Sizes**: Determines the computational depth (how many operations can be performed)\n",
    "- **Global Scale**: Controls the precision of fractional values\n",
    "\n",
    "Higher values generally mean more security and computational capability, but also larger ciphertexts and slower operations."
   ]
  },
  {
   "cell_type": "code",
   "execution_count": 16,
   "metadata": {},
   "outputs": [
    {
     "name": "stdout",
     "output_type": "stream",
     "text": [
      "TenSEAL context created with:\n",
      "  Polynomial modulus degree: 8192\n",
      "  Coefficient modulus bits: [40, 20, 20, 20, 40] (total: 140)\n",
      "  Global scale: 2^20\n"
     ]
    }
   ],
   "source": [
    "import tenseal as ts\n",
    "import time\n",
    "\n",
    "# Configure TenSEAL context with carefully chosen parameters\n",
    "# Parameters are crucial for balancing security, precision, and performance\n",
    "\n",
    "# Polynomial modulus degree - higher value allows more slots in a ciphertext\n",
    "# but increases memory usage and computation time\n",
    "poly_mod_degree = 8192  # Common choices: 4096, 8192, 16384, 32768\n",
    "\n",
    "# Coefficient modulus bit sizes - controls computation depth\n",
    "# First and last values are typically larger for encoding/decoding\n",
    "# Middle values control each multiplication level\n",
    "coeff_mod_bit_sizes = [40, 20, 20, 20, 40]  # Total of 140 bits for security level 128\n",
    "\n",
    "# Create TenSEAL context\n",
    "ts_context = ts.context(\n",
    "    scheme=ts.SCHEME_TYPE.CKKS,  # CKKS scheme for approximate arithmetic\n",
    "    poly_modulus_degree=poly_mod_degree,\n",
    "    coeff_mod_bit_sizes=coeff_mod_bit_sizes\n",
    ")\n",
    "\n",
    "# Set global scale - controls precision of encrypted computations\n",
    "# 2^20 provides good balance between precision and performance\n",
    "ts_context.global_scale = 2**20\n",
    "\n",
    "# Generate galois keys - needed for vector rotation operations\n",
    "# during encrypted matrix multiplication\n",
    "ts_context.generate_galois_keys()\n",
    "\n",
    "print(f\"TenSEAL context created with:\")\n",
    "print(f\"  Polynomial modulus degree: {poly_mod_degree}\")\n",
    "print(f\"  Coefficient modulus bits: {coeff_mod_bit_sizes} (total: {sum(coeff_mod_bit_sizes)})\")\n",
    "print(f\"  Global scale: 2^{int(np.log2(ts_context.global_scale))}\")"
   ]
  },
  {
   "cell_type": "code",
   "execution_count": 17,
   "metadata": {},
   "outputs": [],
   "source": [
    "# poly_mod_degree = 16384\n",
    "# coeff_mod_bit_sizes = [60, 40, 40, 60]\n",
    "# # create TenSEALContext\n",
    "# ctx_eval = ts.context(ts.SCHEME_TYPE.CKKS, poly_mod_degree, -1, coeff_mod_bit_sizes)\n",
    "# # scale of ciphertext to use\n",
    "# ctx_eval.global_scale = 2 ** 40\n",
    "# # this key is needed for doing dot-product operations\n",
    "# ctx_eval.generate_galois_keys()"
   ]
  },
  {
   "cell_type": "code",
   "execution_count": 18,
   "metadata": {},
   "outputs": [],
   "source": [
    "ctx_eval = ts_context"
   ]
  },
  {
   "cell_type": "markdown",
   "metadata": {},
   "source": [
    "### 3.1 Simple / sanity test with small matrix"
   ]
  },
  {
   "cell_type": "code",
   "execution_count": 26,
   "metadata": {},
   "outputs": [
    {
     "data": {
      "text/plain": [
       "tensor([[1.9084, 1.9084]])"
      ]
     },
     "execution_count": 26,
     "metadata": {},
     "output_type": "execute_result"
    }
   ],
   "source": [
    "# Testing \n",
    "a = torch.rand((1, 5))\n",
    "b = torch.ones((5, 2))\n",
    "\n",
    "a @ b"
   ]
  },
  {
   "cell_type": "code",
   "execution_count": 27,
   "metadata": {},
   "outputs": [
    {
     "data": {
      "text/plain": [
       "tensor([[1.9361, 1.9390]])"
      ]
     },
     "execution_count": 27,
     "metadata": {},
     "output_type": "execute_result"
    }
   ],
   "source": [
    "enc_a = ts.ckks_tensor(ctx_eval, a)\n",
    "enc_b = ts.ckks_tensor(ctx_eval, b)\n",
    "\n",
    "enc_a_at_enc_b = torch.tensor((enc_a @ enc_b).decrypt().tolist())\n",
    "enc_a_at_enc_b"
   ]
  },
  {
   "cell_type": "code",
   "execution_count": 28,
   "metadata": {},
   "outputs": [
    {
     "data": {
      "text/plain": [
       "tensor([[0.0277, 0.0306]])"
      ]
     },
     "execution_count": 28,
     "metadata": {},
     "output_type": "execute_result"
    }
   ],
   "source": [
    "# Diff\n",
    "enc_a_at_enc_b - a @ b"
   ]
  },
  {
   "cell_type": "code",
   "execution_count": 29,
   "metadata": {},
   "outputs": [
    {
     "name": "stdout",
     "output_type": "stream",
     "text": [
      "<class 'tenseal.tensors.ckkstensor.CKKSTensor'>\n",
      "<class 'torch.Tensor'>\n"
     ]
    },
    {
     "data": {
      "text/plain": [
       "tensor([[1.9378, 1.9378]])"
      ]
     },
     "execution_count": 29,
     "metadata": {},
     "output_type": "execute_result"
    }
   ],
   "source": [
    "print(type(enc_a))\n",
    "print(type(b))\n",
    "torch.tensor((enc_a @ b).decrypt().tolist())"
   ]
  },
  {
   "cell_type": "markdown",
   "metadata": {},
   "source": [
    "### 3.2 One layer forward pass\n"
   ]
  },
  {
   "cell_type": "code",
   "execution_count": 30,
   "metadata": {},
   "outputs": [
    {
     "name": "stdout",
     "output_type": "stream",
     "text": [
      "tensor([[ 1.2663, -1.4850, -0.4187,  ...,  1.0000,  0.0000,  0.0000],\n",
      "        [-0.9926, -0.7285, -0.4187,  ...,  1.0000,  0.0000,  0.0000],\n",
      "        [ 0.3190, -0.1813,  1.1367,  ...,  1.0000,  0.0000,  0.0000],\n",
      "        ...,\n",
      "        [-0.7740,  0.4755, -0.4187,  ...,  1.0000,  0.0000,  0.0000],\n",
      "        [-0.6283, -1.5178,  0.7479,  ...,  1.0000,  0.0000,  0.0000],\n",
      "        [-1.1384, -0.5541, -0.4187,  ...,  1.0000,  0.0000,  0.0000]])\n",
      "torch.Size([64, 105])\n",
      "<class 'tenseal.tensors.ckkstensor.CKKSTensor'>\n",
      "<class 'torch.Tensor'>\n"
     ]
    }
   ],
   "source": [
    "# get data from testloader and encrypt it\n",
    "x, _ = next(iter(testloader))\n",
    "enc_x = ts.ckks_tensor(ctx_eval, x.tolist())\n",
    "\n",
    "# print\n",
    "print(x)\n",
    "print(x.shape)\n",
    "print(type(enc_x))\n",
    "print(type(classifier.model[0].weight.data))\n"
   ]
  },
  {
   "cell_type": "code",
   "execution_count": null,
   "metadata": {},
   "outputs": [],
   "source": [
    "# matmul of encrypted input * plain layer weights\n",
    "enc_x @ (classifier.model[0].weight.data.cpu().T)"
   ]
  },
  {
   "cell_type": "markdown",
   "metadata": {},
   "source": [
    "### 3.3 Simulate full forward pass"
   ]
  },
  {
   "cell_type": "code",
   "execution_count": null,
   "metadata": {},
   "outputs": [],
   "source": [
    "w_ = classifier.model[0].weight.data.cpu().T\n",
    "w_.to(torch.float8_e4m3fn)\n",
    "xl = enc_x @ (classifier.model[0].weight.data.cpu().T)"
   ]
  },
  {
   "cell_type": "code",
   "execution_count": null,
   "metadata": {},
   "outputs": [
    {
     "data": {
      "text/plain": [
       "<tenseal.tensors.ckkstensor.CKKSTensor at 0x306a57a00>"
      ]
     },
     "execution_count": 24,
     "metadata": {},
     "output_type": "execute_result"
    }
   ],
   "source": [
    "# Stuck at this point, scale out of bounds\n",
    "w2_ = classifier.model[2].weight.data.cpu().T\n",
    "w2_.to(torch.float8_e5m2)\n",
    "\n",
    "xl @ (w2_)"
   ]
  },
  {
   "cell_type": "markdown",
   "metadata": {},
   "source": [
    "### 3.4 Tenseal Encrypted Model"
   ]
  },
  {
   "cell_type": "code",
   "execution_count": 19,
   "metadata": {},
   "outputs": [],
   "source": [
    "# Claude generated code\n",
    "def minimax_relu_approximation(enc_x, domain=(-5, 5)):\n",
    "    \"\"\"\n",
    "    Approximate ReLU using a minimax polynomial over specified domain.\n",
    "    \n",
    "    Minimax polynomials minimize the maximum error across the entire\n",
    "    approximation range, providing better worst-case guarantees.\n",
    "    \n",
    "    Args:\n",
    "        enc_x: Encrypted tensor/vector\n",
    "        domain: Tuple indicating (min, max) range for approximation\n",
    "        \n",
    "    Returns:\n",
    "        Encrypted tensor/vector with the ReLU approximation applied\n",
    "    \"\"\"\n",
    "    # These coefficients are derived using the Remez algorithm or similar methods\n",
    "    # for finding the minimax polynomial approximation for ReLU: f(x) = max(0, x)\n",
    "    # over the domain [-5, 5]\n",
    "    \n",
    "    # Degree 3 minimax coefficients for ReLU over [-5, 5]\n",
    "    # These minimize the maximum approximation error\n",
    "    coeff = [0.16991, 0.5, 0.14192, -0.01687]\n",
    "    \n",
    "    # Calculate polynomial terms\n",
    "    x_squared = enc_x * enc_x\n",
    "    x_cubed = x_squared * enc_x\n",
    "    \n",
    "    # Build polynomial: a + bx + cx² + dx³\n",
    "    # Note: We use regular operators as TenSEAL's CKKSTensor supports them\n",
    "    result = coeff[1] * enc_x + coeff[2] * x_squared + coeff[3] * x_cubed + coeff[0]\n",
    "    \n",
    "    return result"
   ]
  },
  {
   "cell_type": "code",
   "execution_count": 20,
   "metadata": {},
   "outputs": [],
   "source": [
    "# Code in this cell and after did not consider RELU yet, so need to adapt (hardcoded 2 layers)\n",
    "class EncryptedClassifier:\n",
    "    \n",
    "    def __init__(self, unencrypted_model):\n",
    "        \n",
    "        # assuming same architecture\n",
    "        self.w1 = unencrypted_model.model[0].weight.data.cpu() # [256, 15]\n",
    "        self.b1 = unencrypted_model.model[0].bias.data.cpu()  # [256]\n",
    "        \n",
    "        self.w2 = unencrypted_model.model[2].weight.data.cpu()  # [2, 256]\n",
    "        self.b2 = unencrypted_model.model[2].bias.data.cpu()  # [2]\n",
    " \n",
    " \n",
    "    ## apparently, the context need to be adjusted so we can do matmul twice.\n",
    "    ## it keeps making scale out of bounds error. To be researched\n",
    "    def forward(self, enc_x):\n",
    "        # assume encrypted input\n",
    "        \n",
    "        # enc_x would be in the shape of [1, 15]\n",
    "        # while w1 is in shape [256, 15] \n",
    "        \n",
    "        # first layer forward pass\n",
    "        x = enc_x @ self.w1.T \n",
    "        \n",
    "        # relu\n",
    "        # x = minimax_relu_approximation(x)\n",
    "        \n",
    "        # second layer forward pass \n",
    "        x = x @ self.w2.T \n",
    "        \n",
    "        return x        \n",
    "        \n",
    "\n",
    "    \n",
    "    def __call__(self, *args, **kwargs):\n",
    "        return self.forward(*args, **kwargs)\n",
    "        \n",
    "\n",
    "    def encrypt(self, context):\n",
    "        self.w1 = ts.ckks_vector(context, self.w1)\n",
    "        self.b1 = ts.ckks_vector(context, self.b1)\n",
    "        \n",
    "        self.w2 = ts.ckks_vector(context, self.w2)\n",
    "        self.b2 = ts.ckks_vector(context, self.b2)\n",
    "        \n",
    "    def decrypt(self, context):\n",
    "        self.w1 = self.w1.decrypt()\n",
    "        self.b1 = self.b1.decrypt()\n",
    "        \n",
    "        self.w2 = self.w2.decrypt()\n",
    "        self.b2 = self.b2.decrypt()\n",
    "        \n",
    "\n",
    "encCls = EncryptedClassifier(classifier)"
   ]
  },
  {
   "cell_type": "code",
   "execution_count": 21,
   "metadata": {},
   "outputs": [],
   "source": [
    "data, target = next(iter(testloader))"
   ]
  },
  {
   "cell_type": "code",
   "execution_count": 23,
   "metadata": {},
   "outputs": [
    {
     "name": "stdout",
     "output_type": "stream",
     "text": [
      "Instance 0\n"
     ]
    },
    {
     "ename": "NameError",
     "evalue": "name 'x' is not defined",
     "output_type": "error",
     "traceback": [
      "\u001b[0;31m---------------------------------------------------------------------------\u001b[0m",
      "\u001b[0;31mNameError\u001b[0m                                 Traceback (most recent call last)",
      "Cell \u001b[0;32mIn[23], line 6\u001b[0m\n\u001b[1;32m      2\u001b[0m \u001b[38;5;28mprint\u001b[39m(\u001b[38;5;124mf\u001b[39m\u001b[38;5;124m\"\u001b[39m\u001b[38;5;124mInstance \u001b[39m\u001b[38;5;132;01m{\u001b[39;00mi\u001b[38;5;132;01m}\u001b[39;00m\u001b[38;5;124m\"\u001b[39m)\n\u001b[1;32m      4\u001b[0m \u001b[38;5;66;03m# Tenseal only supports lists iirc - need to double check\u001b[39;00m\n\u001b[1;32m      5\u001b[0m \u001b[38;5;66;03m# but as work around for now \u001b[39;00m\n\u001b[0;32m----> 6\u001b[0m \u001b[38;5;28;01mfor\u001b[39;00m n \u001b[38;5;129;01min\u001b[39;00m \u001b[38;5;28mrange\u001b[39m(\u001b[43mx\u001b[49m\u001b[38;5;241m.\u001b[39mshape[\u001b[38;5;241m0\u001b[39m]):\n\u001b[1;32m      7\u001b[0m     x \u001b[38;5;241m=\u001b[39m data[n]\n\u001b[1;32m      8\u001b[0m     \u001b[38;5;28mprint\u001b[39m(\u001b[38;5;124mf\u001b[39m\u001b[38;5;124m\"\u001b[39m\u001b[38;5;130;01m\\t\u001b[39;00m\u001b[38;5;124m input tensor: \u001b[39m\u001b[38;5;132;01m{\u001b[39;00mx\u001b[38;5;132;01m}\u001b[39;00m\u001b[38;5;124m\"\u001b[39m)\n",
      "\u001b[0;31mNameError\u001b[0m: name 'x' is not defined"
     ]
    }
   ],
   "source": [
    "for i, (data, target) in enumerate((testloader)):\n",
    "    print(f\"Instance {i}\")\n",
    "    \n",
    "    # Tenseal only supports lists iirc - need to double check\n",
    "    # but as work around for now \n",
    "    for n in range(x.shape[0]):\n",
    "        x = data[n]\n",
    "        print(f\"\\t input tensor: {x}\")\n",
    "        \n",
    "        enc_x = ts.ckks_tensor(ctx_eval, [x])\n",
    "        print(f\"\\t ckks enc tensor: {enc_x}\")\n",
    "        \n",
    "        # encrypted evaluation\n",
    "        enc_out = encCls(enc_x)\n",
    "        print(f\"\\t forward output tensor: {enc_out}\")\n",
    "        \n",
    "        # plain comparison\n",
    "        out = enc_out.decrypt()\n",
    "        print(f\"\\t decrypted output: {torch.tensor(out.tolist())}\")\n",
    "    \n",
    "        if n == 3:\n",
    "            break"
   ]
  },
  {
   "cell_type": "code",
   "execution_count": 24,
   "metadata": {},
   "outputs": [
    {
     "name": "stdout",
     "output_type": "stream",
     "text": [
      "Instance 0\n",
      "\t input tensor: tensor([[ 1.2663, -1.4850, -0.4187,  ...,  1.0000,  0.0000,  0.0000],\n",
      "        [-0.9926, -0.7285, -0.4187,  ...,  1.0000,  0.0000,  0.0000],\n",
      "        [ 0.3190, -0.1813,  1.1367,  ...,  1.0000,  0.0000,  0.0000],\n",
      "        ...,\n",
      "        [-0.7740,  0.4755, -0.4187,  ...,  1.0000,  0.0000,  0.0000],\n",
      "        [-0.6283, -1.5178,  0.7479,  ...,  1.0000,  0.0000,  0.0000],\n",
      "        [-1.1384, -0.5541, -0.4187,  ...,  1.0000,  0.0000,  0.0000]])\n"
     ]
    },
    {
     "ename": "KeyboardInterrupt",
     "evalue": "",
     "output_type": "error",
     "traceback": [
      "\u001b[0;31m---------------------------------------------------------------------------\u001b[0m",
      "\u001b[0;31mKeyboardInterrupt\u001b[0m                         Traceback (most recent call last)",
      "Cell \u001b[0;32mIn[24], line 9\u001b[0m\n\u001b[1;32m      6\u001b[0m x \u001b[38;5;241m=\u001b[39m data\n\u001b[1;32m      7\u001b[0m \u001b[38;5;28mprint\u001b[39m(\u001b[38;5;124mf\u001b[39m\u001b[38;5;124m\"\u001b[39m\u001b[38;5;130;01m\\t\u001b[39;00m\u001b[38;5;124m input tensor: \u001b[39m\u001b[38;5;132;01m{\u001b[39;00mx\u001b[38;5;132;01m}\u001b[39;00m\u001b[38;5;124m\"\u001b[39m)\n\u001b[0;32m----> 9\u001b[0m enc_x \u001b[38;5;241m=\u001b[39m \u001b[43mts\u001b[49m\u001b[38;5;241;43m.\u001b[39;49m\u001b[43mckks_tensor\u001b[49m\u001b[43m(\u001b[49m\u001b[43mctx_eval\u001b[49m\u001b[43m,\u001b[49m\u001b[43m \u001b[49m\u001b[43mx\u001b[49m\u001b[43m)\u001b[49m\n\u001b[1;32m     10\u001b[0m \u001b[38;5;28mprint\u001b[39m(\u001b[38;5;124mf\u001b[39m\u001b[38;5;124m\"\u001b[39m\u001b[38;5;130;01m\\t\u001b[39;00m\u001b[38;5;124m ckks enc tensor: \u001b[39m\u001b[38;5;132;01m{\u001b[39;00menc_x\u001b[38;5;132;01m}\u001b[39;00m\u001b[38;5;124m\"\u001b[39m)\n\u001b[1;32m     12\u001b[0m \u001b[38;5;66;03m# encrypted evaluation\u001b[39;00m\n",
      "File \u001b[0;32m~/Workspace/Programming_Projects/homomorphic-ml-project/.venv/lib/python3.10/site-packages/tenseal/__init__.py:118\u001b[0m, in \u001b[0;36mckks_tensor\u001b[0;34m(*args, **kwargs)\u001b[0m\n\u001b[1;32m    116\u001b[0m \u001b[38;5;28;01mdef\u001b[39;00m\u001b[38;5;250m \u001b[39m\u001b[38;5;21mckks_tensor\u001b[39m(\u001b[38;5;241m*\u001b[39margs, \u001b[38;5;241m*\u001b[39m\u001b[38;5;241m*\u001b[39mkwargs) \u001b[38;5;241m-\u001b[39m\u001b[38;5;241m>\u001b[39m CKKSTensor:\n\u001b[1;32m    117\u001b[0m \u001b[38;5;250m    \u001b[39m\u001b[38;5;124;03m\"\"\"Constructor function for tenseal.CKKSTensor\"\"\"\u001b[39;00m\n\u001b[0;32m--> 118\u001b[0m     \u001b[38;5;28;01mreturn\u001b[39;00m \u001b[43mCKKSTensor\u001b[49m\u001b[43m(\u001b[49m\u001b[38;5;241;43m*\u001b[39;49m\u001b[43margs\u001b[49m\u001b[43m,\u001b[49m\u001b[43m \u001b[49m\u001b[38;5;241;43m*\u001b[39;49m\u001b[38;5;241;43m*\u001b[39;49m\u001b[43mkwargs\u001b[49m\u001b[43m)\u001b[49m\n",
      "File \u001b[0;32m~/Workspace/Programming_Projects/homomorphic-ml-project/.venv/lib/python3.10/site-packages/tenseal/tensors/ckkstensor.py:44\u001b[0m, in \u001b[0;36mCKKSTensor.__init__\u001b[0;34m(self, context, tensor, scale, batch, data)\u001b[0m\n\u001b[1;32m     41\u001b[0m tensor\u001b[38;5;241m.\u001b[39mdtype \u001b[38;5;241m=\u001b[39m \u001b[38;5;124m\"\u001b[39m\u001b[38;5;124mfloat\u001b[39m\u001b[38;5;124m\"\u001b[39m\n\u001b[1;32m     43\u001b[0m \u001b[38;5;28;01mif\u001b[39;00m scale \u001b[38;5;129;01mis\u001b[39;00m \u001b[38;5;28;01mNone\u001b[39;00m:\n\u001b[0;32m---> 44\u001b[0m     \u001b[38;5;28mself\u001b[39m\u001b[38;5;241m.\u001b[39mdata \u001b[38;5;241m=\u001b[39m \u001b[43mts\u001b[49m\u001b[38;5;241;43m.\u001b[39;49m\u001b[43m_ts_cpp\u001b[49m\u001b[38;5;241;43m.\u001b[39;49m\u001b[43mCKKSTensor\u001b[49m\u001b[43m(\u001b[49m\u001b[43mcontext\u001b[49m\u001b[38;5;241;43m.\u001b[39;49m\u001b[43mdata\u001b[49m\u001b[43m,\u001b[49m\u001b[43m \u001b[49m\u001b[43mtensor\u001b[49m\u001b[38;5;241;43m.\u001b[39;49m\u001b[43mdata\u001b[49m\u001b[43m,\u001b[49m\u001b[43m \u001b[49m\u001b[43mbatch\u001b[49m\u001b[43m)\u001b[49m\n\u001b[1;32m     45\u001b[0m \u001b[38;5;28;01melse\u001b[39;00m:\n\u001b[1;32m     46\u001b[0m     \u001b[38;5;28mself\u001b[39m\u001b[38;5;241m.\u001b[39mdata \u001b[38;5;241m=\u001b[39m ts\u001b[38;5;241m.\u001b[39m_ts_cpp\u001b[38;5;241m.\u001b[39mCKKSTensor(context\u001b[38;5;241m.\u001b[39mdata, tensor\u001b[38;5;241m.\u001b[39mdata, scale, batch)\n",
      "\u001b[0;31mKeyboardInterrupt\u001b[0m: "
     ]
    }
   ],
   "source": [
    "for i, (data, target) in enumerate((testloader)):\n",
    "    print(f\"Instance {i}\")\n",
    "    \n",
    "    # Tenseal only supports lists iirc - need to double check\n",
    "    # but as work around for now \n",
    "    x = data\n",
    "    print(f\"\\t input tensor: {x}\")\n",
    "    \n",
    "    enc_x = ts.ckks_tensor(ctx_eval, x)\n",
    "    print(f\"\\t ckks enc tensor: {enc_x}\")\n",
    "    \n",
    "    # encrypted evaluation\n",
    "    enc_out = encCls(enc_x)\n",
    "    print(f\"\\t forward output tensor: {enc_out}\")\n",
    "    \n",
    "    # plain comparison\n",
    "    out = enc_out.decrypt()\n",
    "    print(f\"\\t decrypted output: {torch.tensor(out.tolist())}\")\n",
    "\n",
    "    if i == 3:\n",
    "        break"
   ]
  },
  {
   "cell_type": "code",
   "execution_count": 34,
   "metadata": {},
   "outputs": [
    {
     "ename": "",
     "evalue": "",
     "output_type": "error",
     "traceback": [
      "\u001b[1;31mThe Kernel crashed while executing code in the current cell or a previous cell. \n",
      "\u001b[1;31mPlease review the code in the cell(s) to identify a possible cause of the failure. \n",
      "\u001b[1;31mClick <a href='https://aka.ms/vscodeJupyterKernelCrash'>here</a> for more info. \n",
      "\u001b[1;31mView Jupyter <a href='command:jupyter.viewOutput'>log</a> for further details."
     ]
    }
   ],
   "source": [
    "start_time = time.time()\n",
    "\n",
    "total_samples = 0\n",
    "torch_correct = 0\n",
    "tenseal_correct = 0\n",
    "agreement = 0\n",
    "\n",
    "for i, (data, target) in enumerate(testloader):\n",
    "    if i >= 1:\n",
    "        break\n",
    "        \n",
    "    batch_size = data.shape[0]\n",
    "    total_samples += batch_size\n",
    "    \n",
    "    # Original PyTorch model prediction\n",
    "    with torch.no_grad():\n",
    "        torch_output = classifier(data)\n",
    "        torch_pred = torch_output.argmax(dim=1)\n",
    "        torch_correct += (torch_pred == target).sum().item()\n",
    "    \n",
    "    # Encrypt the input\n",
    "    enc_x = ts.ckks_tensor(ctx_eval, data.tolist())\n",
    "    \n",
    "    # TenSEAL model prediction\n",
    "    enc_output = encCls(enc_x)\n",
    "    \n",
    "    # Decrypt and process the output\n",
    "    decrypted_output = enc_output.decrypt()\n",
    "    tenseal_pred = torch.tensor(decrypted_output.tolist()).argmax(dim=1)\n",
    "    \n",
    "    # Calculate metrics\n",
    "    tenseal_correct += (tenseal_pred == target).sum().item()\n",
    "    agreement += (tenseal_pred == torch_pred).sum().item()\n",
    "\n",
    "# Calculate total execution time\n",
    "execution_time = time.time() - start_time\n",
    "\n",
    "# Compile results\n",
    "results = {\n",
    "    \"total_samples\": total_samples,\n",
    "    \"torch_accuracy\": torch_correct / total_samples if total_samples > 0 else 0,\n",
    "    \"tenseal_accuracy\": tenseal_correct / total_samples if total_samples > 0 else 0,\n",
    "    \"model_agreement\": agreement / total_samples if total_samples > 0 else 0,\n",
    "    \"execution_time\": execution_time,\n",
    "    \"time_per_sample\": execution_time / total_samples if total_samples > 0 else 0\n",
    "}\n",
    "\n",
    "print(\"\\n=== TenSEAL Evaluation Results ===\")\n",
    "print(f\"Total samples: {total_samples}\")\n",
    "print(f\"Original model accuracy: {results['torch_accuracy']:.4f}\")\n",
    "print(f\"TenSEAL model accuracy: {results['tenseal_accuracy']:.4f}\")\n",
    "print(f\"Model agreement: {results['model_agreement']:.4f}\")\n",
    "print(f\"Total execution time: {results['execution_time']:.4f} seconds\")\n",
    "print(f\"Average time per sample: {results['time_per_sample']:.4f} seconds\")\n",
    "\n",
    "results"
   ]
  },
  {
   "attachments": {
    "image-2.png": {
     "image/png": "[encoded data removed]"
    },
    "image-3.png": {
     "image/png": "[encoded data removed]"
    },
    "image.png": {
     "image/png": "[encoded data removed]"
    }
   },
   "cell_type": "markdown",
   "metadata": {},
   "source": [
    "![image.png](attachment:image.png)![image-2.png](attachment:image-2.png)![image-3.png](attachment:image-3.png)"
   ]
  },
  {
   "cell_type": "markdown",
   "metadata": {},
   "source": []
  }
 ],
 "metadata": {
  "kernelspec": {
   "display_name": ".venv",
   "language": "python",
   "name": "python3"
  },
  "language_info": {
   "codemirror_mode": {
    "name": "ipython",
    "version": 3
   },
   "file_extension": ".py",
   "mimetype": "text/x-python",
   "name": "python",
   "nbconvert_exporter": "python",
   "pygments_lexer": "ipython3",
   "version": "3.10.17"
  }
 },
 "nbformat": 4,
 "nbformat_minor": 2
}
