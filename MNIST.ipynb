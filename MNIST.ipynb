{
  "nbformat": 4,
  "nbformat_minor": 0,
  "metadata": {
    "colab": {
      "provenance": []
    },
    "kernelspec": {
      "name": "python3",
      "display_name": "Python 3"
    },
    "language_info": {
      "name": "python"
    }
  },
  "cells": [
    {
      "cell_type": "code",
      "source": [
        "import torch\n",
        "import torch.nn as nn\n",
        "import torch.optim as optim\n",
        "import torchvision\n",
        "import torchvision.transforms as transforms\n",
        "from torch.utils.data import DataLoader"
      ],
      "metadata": {
        "id": "3Zb27bmHoQdw"
      },
      "execution_count": 1,
      "outputs": []
    },
    {
      "cell_type": "code",
      "source": [
        "batch_size = 64\n",
        "learning_rate = 0.001\n",
        "num_epochs = 10\n",
        "input_size = 28 * 28  # MNIST images are 28x28 pixels\n",
        "hidden_size = 128\n",
        "num_classes = 10  # 10 digits (0-9)"
      ],
      "metadata": {
        "id": "j7vEDaf4oSG7"
      },
      "execution_count": 2,
      "outputs": []
    },
    {
      "cell_type": "code",
      "source": [
        "device = torch.device('cuda' if torch.cuda.is_available() else 'cpu')"
      ],
      "metadata": {
        "id": "FI_4emRMoZOn"
      },
      "execution_count": 3,
      "outputs": []
    },
    {
      "cell_type": "code",
      "source": [
        "transform = transforms.Compose([\n",
        "    transforms.ToTensor(),\n",
        "    transforms.Normalize((0.1307,), (0.3081,))  # MNIST mean and std\n",
        "])"
      ],
      "metadata": {
        "id": "x7VhO6GmobUb"
      },
      "execution_count": 4,
      "outputs": []
    },
    {
      "cell_type": "code",
      "source": [
        "train_dataset = torchvision.datasets.MNIST(\n",
        "    root='./data',\n",
        "    train=True,\n",
        "    transform=transform,\n",
        "    download=True\n",
        ")\n",
        "\n",
        "test_dataset = torchvision.datasets.MNIST(\n",
        "    root='./data',\n",
        "    train=False,\n",
        "    transform=transform\n",
        ")\n",
        "\n",
        "# Create data loaders\n",
        "train_loader = DataLoader(\n",
        "    dataset=train_dataset,\n",
        "    batch_size=batch_size,\n",
        "    shuffle=True\n",
        ")\n",
        "\n",
        "test_loader = DataLoader(\n",
        "    dataset=test_dataset,\n",
        "    batch_size=batch_size,\n",
        "    shuffle=False\n",
        ")\n"
      ],
      "metadata": {
        "colab": {
          "base_uri": "https://localhost:8080/"
        },
        "id": "1XYEjrpvoc3s",
        "outputId": "1bcbfd46-a2a7-4c2d-cd76-3b20d38079b7"
      },
      "execution_count": 5,
      "outputs": [
        {
          "output_type": "stream",
          "name": "stderr",
          "text": [
            "100%|██████████| 9.91M/9.91M [00:00<00:00, 42.6MB/s]\n",
            "100%|██████████| 28.9k/28.9k [00:00<00:00, 1.19MB/s]\n",
            "100%|██████████| 1.65M/1.65M [00:00<00:00, 10.4MB/s]\n",
            "100%|██████████| 4.54k/4.54k [00:00<00:00, 6.14MB/s]\n"
          ]
        }
      ]
    },
    {
      "cell_type": "code",
      "source": [
        "class MLP(nn.Module):\n",
        "    def __init__(self, input_size, hidden_size, num_classes):\n",
        "        super(MLP, self).__init__()\n",
        "        self.flatten = nn.Flatten()\n",
        "        self.fc1 = nn.Linear(input_size, hidden_size)\n",
        "        self.relu = nn.ReLU()\n",
        "        self.fc2 = nn.Linear(hidden_size, hidden_size)\n",
        "        self.fc3 = nn.Linear(hidden_size, num_classes)\n",
        "\n",
        "    def forward(self, x):\n",
        "        x = self.flatten(x)\n",
        "        x = self.fc1(x)\n",
        "        x = self.relu(x)\n",
        "        x = self.fc2(x)\n",
        "        x = self.relu(x)\n",
        "        x = self.fc3(x)\n",
        "        return x"
      ],
      "metadata": {
        "id": "o0hm55FNofQw"
      },
      "execution_count": 6,
      "outputs": []
    },
    {
      "cell_type": "code",
      "source": [
        "model = MLP(input_size, hidden_size, num_classes).to(device)"
      ],
      "metadata": {
        "id": "42ILZ9haojD6"
      },
      "execution_count": 7,
      "outputs": []
    },
    {
      "cell_type": "code",
      "source": [
        "criterion = nn.CrossEntropyLoss()\n",
        "optimizer = optim.Adam(model.parameters(), lr=learning_rate)\n"
      ],
      "metadata": {
        "id": "Uy5GpQsZolAT"
      },
      "execution_count": 8,
      "outputs": []
    },
    {
      "cell_type": "code",
      "source": [
        "def train():\n",
        "    model.train()\n",
        "    running_loss = 0.0\n",
        "    correct = 0\n",
        "    total = 0\n",
        "\n",
        "    for i, (images, labels) in enumerate(train_loader):\n",
        "        images = images.to(device)\n",
        "        labels = labels.to(device)\n",
        "\n",
        "        # Forward pass\n",
        "        outputs = model(images)\n",
        "        loss = criterion(outputs, labels)\n",
        "\n",
        "        # Backward and optimize\n",
        "        optimizer.zero_grad()\n",
        "        loss.backward()\n",
        "        optimizer.step()\n",
        "\n",
        "        # Statistics\n",
        "        running_loss += loss.item()\n",
        "        _, predicted = torch.max(outputs.data, 1)\n",
        "        total += labels.size(0)\n",
        "        correct += (predicted == labels).sum().item()\n",
        "\n",
        "        if (i+1) % 100 == 0:\n",
        "            print(f'Batch [{i+1}/{len(train_loader)}], Loss: {loss.item():.4f}')\n",
        "\n",
        "    epoch_loss = running_loss / len(train_loader)\n",
        "    accuracy = 100 * correct / total\n",
        "    return epoch_loss, accuracy"
      ],
      "metadata": {
        "id": "pSNy7ZNtoonk"
      },
      "execution_count": 9,
      "outputs": []
    },
    {
      "cell_type": "code",
      "source": [
        "def test():\n",
        "    model.eval()\n",
        "    correct = 0\n",
        "    total = 0\n",
        "\n",
        "    with torch.no_grad():\n",
        "        for images, labels in test_loader:\n",
        "            images = images.to(device)\n",
        "            labels = labels.to(device)\n",
        "\n",
        "            outputs = model(images)\n",
        "            _, predicted = torch.max(outputs.data, 1)\n",
        "\n",
        "            total += labels.size(0)\n",
        "            correct += (predicted == labels).sum().item()\n",
        "\n",
        "    accuracy = 100 * correct / total\n",
        "    return accuracy"
      ],
      "metadata": {
        "id": "SaoHkILXoqny"
      },
      "execution_count": 10,
      "outputs": []
    },
    {
      "cell_type": "code",
      "source": [
        "print(f\"Training on {device}\")\n",
        "for epoch in range(num_epochs):\n",
        "    train_loss, train_acc = train()\n",
        "    test_acc = test()\n",
        "\n",
        "    print(f'Epoch [{epoch+1}/{num_epochs}], '\n",
        "          f'Train Loss: {train_loss:.4f}, '\n",
        "          f'Train Accuracy: {train_acc:.2f}%, '\n",
        "          f'Test Accuracy: {test_acc:.2f}%')\n",
        "\n",
        "# Save the model\n",
        "torch.save(model.state_dict(), 'mnist_mlp.pth')\n",
        "print('Model saved to mnist_mlp.pth')"
      ],
      "metadata": {
        "colab": {
          "base_uri": "https://localhost:8080/"
        },
        "id": "RLSqoKiWosuj",
        "outputId": "56112f3e-f281-49a4-8e9c-5157af1b6d84"
      },
      "execution_count": 11,
      "outputs": [
        {
          "output_type": "stream",
          "name": "stdout",
          "text": [
            "Training on cpu\n",
            "Batch [100/938], Loss: 0.3245\n",
            "Batch [200/938], Loss: 0.2276\n",
            "Batch [300/938], Loss: 0.1827\n",
            "Batch [400/938], Loss: 0.1443\n",
            "Batch [500/938], Loss: 0.3945\n",
            "Batch [600/938], Loss: 0.2700\n",
            "Batch [700/938], Loss: 0.3124\n",
            "Batch [800/938], Loss: 0.0445\n",
            "Batch [900/938], Loss: 0.2850\n",
            "Epoch [1/10], Train Loss: 0.2539, Train Accuracy: 92.46%, Test Accuracy: 96.22%\n",
            "Batch [100/938], Loss: 0.1068\n",
            "Batch [200/938], Loss: 0.1751\n",
            "Batch [300/938], Loss: 0.0483\n",
            "Batch [400/938], Loss: 0.1308\n",
            "Batch [500/938], Loss: 0.0809\n",
            "Batch [600/938], Loss: 0.0582\n",
            "Batch [700/938], Loss: 0.1647\n",
            "Batch [800/938], Loss: 0.1128\n",
            "Batch [900/938], Loss: 0.0497\n",
            "Epoch [2/10], Train Loss: 0.1041, Train Accuracy: 96.76%, Test Accuracy: 96.54%\n",
            "Batch [100/938], Loss: 0.0306\n",
            "Batch [200/938], Loss: 0.0737\n",
            "Batch [300/938], Loss: 0.1546\n",
            "Batch [400/938], Loss: 0.0768\n",
            "Batch [500/938], Loss: 0.0468\n",
            "Batch [600/938], Loss: 0.0102\n",
            "Batch [700/938], Loss: 0.0427\n",
            "Batch [800/938], Loss: 0.1526\n",
            "Batch [900/938], Loss: 0.0640\n",
            "Epoch [3/10], Train Loss: 0.0762, Train Accuracy: 97.58%, Test Accuracy: 97.28%\n",
            "Batch [100/938], Loss: 0.0984\n",
            "Batch [200/938], Loss: 0.0747\n",
            "Batch [300/938], Loss: 0.1037\n",
            "Batch [400/938], Loss: 0.0174\n",
            "Batch [500/938], Loss: 0.0078\n",
            "Batch [600/938], Loss: 0.0742\n",
            "Batch [700/938], Loss: 0.0319\n",
            "Batch [800/938], Loss: 0.0617\n",
            "Batch [900/938], Loss: 0.0318\n",
            "Epoch [4/10], Train Loss: 0.0584, Train Accuracy: 98.10%, Test Accuracy: 97.66%\n",
            "Batch [100/938], Loss: 0.0397\n",
            "Batch [200/938], Loss: 0.0114\n",
            "Batch [300/938], Loss: 0.0471\n",
            "Batch [400/938], Loss: 0.1663\n",
            "Batch [500/938], Loss: 0.0240\n",
            "Batch [600/938], Loss: 0.0403\n",
            "Batch [700/938], Loss: 0.0621\n",
            "Batch [800/938], Loss: 0.0341\n",
            "Batch [900/938], Loss: 0.0077\n",
            "Epoch [5/10], Train Loss: 0.0458, Train Accuracy: 98.51%, Test Accuracy: 97.76%\n",
            "Batch [100/938], Loss: 0.0165\n",
            "Batch [200/938], Loss: 0.0451\n",
            "Batch [300/938], Loss: 0.0728\n",
            "Batch [400/938], Loss: 0.0407\n",
            "Batch [500/938], Loss: 0.0756\n",
            "Batch [600/938], Loss: 0.0106\n",
            "Batch [700/938], Loss: 0.0244\n",
            "Batch [800/938], Loss: 0.0906\n",
            "Batch [900/938], Loss: 0.0562\n",
            "Epoch [6/10], Train Loss: 0.0398, Train Accuracy: 98.70%, Test Accuracy: 97.72%\n",
            "Batch [100/938], Loss: 0.0079\n",
            "Batch [200/938], Loss: 0.1168\n",
            "Batch [300/938], Loss: 0.0131\n",
            "Batch [400/938], Loss: 0.0454\n",
            "Batch [500/938], Loss: 0.0594\n",
            "Batch [600/938], Loss: 0.2121\n",
            "Batch [700/938], Loss: 0.0319\n",
            "Batch [800/938], Loss: 0.0772\n",
            "Batch [900/938], Loss: 0.0362\n",
            "Epoch [7/10], Train Loss: 0.0319, Train Accuracy: 98.92%, Test Accuracy: 97.78%\n",
            "Batch [100/938], Loss: 0.0249\n",
            "Batch [200/938], Loss: 0.0161\n",
            "Batch [300/938], Loss: 0.0298\n",
            "Batch [400/938], Loss: 0.0010\n",
            "Batch [500/938], Loss: 0.0032\n",
            "Batch [600/938], Loss: 0.0620\n",
            "Batch [700/938], Loss: 0.0008\n",
            "Batch [800/938], Loss: 0.0444\n",
            "Batch [900/938], Loss: 0.0518\n",
            "Epoch [8/10], Train Loss: 0.0293, Train Accuracy: 99.03%, Test Accuracy: 97.73%\n",
            "Batch [100/938], Loss: 0.0174\n",
            "Batch [200/938], Loss: 0.0380\n",
            "Batch [300/938], Loss: 0.0227\n",
            "Batch [400/938], Loss: 0.0010\n",
            "Batch [500/938], Loss: 0.0048\n",
            "Batch [600/938], Loss: 0.0642\n",
            "Batch [700/938], Loss: 0.0210\n",
            "Batch [800/938], Loss: 0.0100\n",
            "Batch [900/938], Loss: 0.0356\n",
            "Epoch [9/10], Train Loss: 0.0244, Train Accuracy: 99.19%, Test Accuracy: 97.92%\n",
            "Batch [100/938], Loss: 0.0079\n",
            "Batch [200/938], Loss: 0.0022\n",
            "Batch [300/938], Loss: 0.0038\n",
            "Batch [400/938], Loss: 0.0076\n",
            "Batch [500/938], Loss: 0.0145\n",
            "Batch [600/938], Loss: 0.0624\n",
            "Batch [700/938], Loss: 0.0022\n",
            "Batch [800/938], Loss: 0.0253\n",
            "Batch [900/938], Loss: 0.0165\n",
            "Epoch [10/10], Train Loss: 0.0239, Train Accuracy: 99.18%, Test Accuracy: 97.74%\n",
            "Model saved to mnist_mlp.pth\n"
          ]
        }
      ]
    }
  ]
}